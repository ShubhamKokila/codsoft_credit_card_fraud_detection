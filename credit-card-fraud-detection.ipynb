{
 "cells": [
  {
   "cell_type": "code",
   "execution_count": 1,
   "id": "c7714503",
   "metadata": {
    "_cell_guid": "b1076dfc-b9ad-4769-8c92-a6c4dae69d19",
    "_uuid": "8f2839f25d086af736a60e9eeb907d3b93b6e0e5",
    "execution": {
     "iopub.execute_input": "2023-08-27T14:45:16.530473Z",
     "iopub.status.busy": "2023-08-27T14:45:16.530015Z",
     "iopub.status.idle": "2023-08-27T14:45:16.550848Z",
     "shell.execute_reply": "2023-08-27T14:45:16.549555Z"
    },
    "papermill": {
     "duration": 0.041254,
     "end_time": "2023-08-27T14:45:16.553729",
     "exception": false,
     "start_time": "2023-08-27T14:45:16.512475",
     "status": "completed"
    },
    "tags": []
   },
   "outputs": [
    {
     "name": "stdout",
     "output_type": "stream",
     "text": [
      "/kaggle/input/creditcardfraud/creditcard.csv\n"
     ]
    }
   ],
   "source": [
    "# This Python 3 environment comes with many helpful analytics libraries installed\n",
    "# It is defined by the kaggle/python Docker image: https://github.com/kaggle/docker-python\n",
    "# For example, here's several helpful packages to load\n",
    "\n",
    "import numpy as np # linear algebra\n",
    "import pandas as pd # data processing, CSV file I/O (e.g. pd.read_csv)\n",
    "\n",
    "# Input data files are available in the read-only \"../input/\" directory\n",
    "# For example, running this (by clicking run or pressing Shift+Enter) will list all files under the input directory\n",
    "\n",
    "import os\n",
    "for dirname, _, filenames in os.walk('/kaggle/input'):\n",
    "    for filename in filenames:\n",
    "        print(os.path.join(dirname, filename))\n",
    "\n",
    "# You can write up to 20GB to the current directory (/kaggle/working/) that gets preserved as output when you create a version using \"Save & Run All\" \n",
    "# You can also write temporary files to /kaggle/temp/, but they won't be saved outside of the current session"
   ]
  },
  {
   "cell_type": "markdown",
   "id": "96b51df1",
   "metadata": {
    "papermill": {
     "duration": 0.013693,
     "end_time": "2023-08-27T14:45:16.581841",
     "exception": false,
     "start_time": "2023-08-27T14:45:16.568148",
     "status": "completed"
    },
    "tags": []
   },
   "source": [
    "# **Data Loading**\n",
    "The dataset contains transactions made by credit cards in September 2013 by European cardholders."
   ]
  },
  {
   "cell_type": "code",
   "execution_count": 2,
   "id": "3b5c0e50",
   "metadata": {
    "execution": {
     "iopub.execute_input": "2023-08-27T14:45:16.615019Z",
     "iopub.status.busy": "2023-08-27T14:45:16.614248Z",
     "iopub.status.idle": "2023-08-27T14:45:22.271397Z",
     "shell.execute_reply": "2023-08-27T14:45:22.270192Z"
    },
    "papermill": {
     "duration": 5.677829,
     "end_time": "2023-08-27T14:45:22.274199",
     "exception": false,
     "start_time": "2023-08-27T14:45:16.596370",
     "status": "completed"
    },
    "tags": []
   },
   "outputs": [
    {
     "data": {
      "text/html": [
       "<div>\n",
       "<style scoped>\n",
       "    .dataframe tbody tr th:only-of-type {\n",
       "        vertical-align: middle;\n",
       "    }\n",
       "\n",
       "    .dataframe tbody tr th {\n",
       "        vertical-align: top;\n",
       "    }\n",
       "\n",
       "    .dataframe thead th {\n",
       "        text-align: right;\n",
       "    }\n",
       "</style>\n",
       "<table border=\"1\" class=\"dataframe\">\n",
       "  <thead>\n",
       "    <tr style=\"text-align: right;\">\n",
       "      <th></th>\n",
       "      <th>Time</th>\n",
       "      <th>V1</th>\n",
       "      <th>V2</th>\n",
       "      <th>V3</th>\n",
       "      <th>V4</th>\n",
       "      <th>V5</th>\n",
       "      <th>V6</th>\n",
       "      <th>V7</th>\n",
       "      <th>V8</th>\n",
       "      <th>V9</th>\n",
       "      <th>...</th>\n",
       "      <th>V21</th>\n",
       "      <th>V22</th>\n",
       "      <th>V23</th>\n",
       "      <th>V24</th>\n",
       "      <th>V25</th>\n",
       "      <th>V26</th>\n",
       "      <th>V27</th>\n",
       "      <th>V28</th>\n",
       "      <th>Amount</th>\n",
       "      <th>Class</th>\n",
       "    </tr>\n",
       "  </thead>\n",
       "  <tbody>\n",
       "    <tr>\n",
       "      <th>0</th>\n",
       "      <td>0.0</td>\n",
       "      <td>-1.359807</td>\n",
       "      <td>-0.072781</td>\n",
       "      <td>2.536347</td>\n",
       "      <td>1.378155</td>\n",
       "      <td>-0.338321</td>\n",
       "      <td>0.462388</td>\n",
       "      <td>0.239599</td>\n",
       "      <td>0.098698</td>\n",
       "      <td>0.363787</td>\n",
       "      <td>...</td>\n",
       "      <td>-0.018307</td>\n",
       "      <td>0.277838</td>\n",
       "      <td>-0.110474</td>\n",
       "      <td>0.066928</td>\n",
       "      <td>0.128539</td>\n",
       "      <td>-0.189115</td>\n",
       "      <td>0.133558</td>\n",
       "      <td>-0.021053</td>\n",
       "      <td>149.62</td>\n",
       "      <td>0</td>\n",
       "    </tr>\n",
       "    <tr>\n",
       "      <th>1</th>\n",
       "      <td>0.0</td>\n",
       "      <td>1.191857</td>\n",
       "      <td>0.266151</td>\n",
       "      <td>0.166480</td>\n",
       "      <td>0.448154</td>\n",
       "      <td>0.060018</td>\n",
       "      <td>-0.082361</td>\n",
       "      <td>-0.078803</td>\n",
       "      <td>0.085102</td>\n",
       "      <td>-0.255425</td>\n",
       "      <td>...</td>\n",
       "      <td>-0.225775</td>\n",
       "      <td>-0.638672</td>\n",
       "      <td>0.101288</td>\n",
       "      <td>-0.339846</td>\n",
       "      <td>0.167170</td>\n",
       "      <td>0.125895</td>\n",
       "      <td>-0.008983</td>\n",
       "      <td>0.014724</td>\n",
       "      <td>2.69</td>\n",
       "      <td>0</td>\n",
       "    </tr>\n",
       "    <tr>\n",
       "      <th>2</th>\n",
       "      <td>1.0</td>\n",
       "      <td>-1.358354</td>\n",
       "      <td>-1.340163</td>\n",
       "      <td>1.773209</td>\n",
       "      <td>0.379780</td>\n",
       "      <td>-0.503198</td>\n",
       "      <td>1.800499</td>\n",
       "      <td>0.791461</td>\n",
       "      <td>0.247676</td>\n",
       "      <td>-1.514654</td>\n",
       "      <td>...</td>\n",
       "      <td>0.247998</td>\n",
       "      <td>0.771679</td>\n",
       "      <td>0.909412</td>\n",
       "      <td>-0.689281</td>\n",
       "      <td>-0.327642</td>\n",
       "      <td>-0.139097</td>\n",
       "      <td>-0.055353</td>\n",
       "      <td>-0.059752</td>\n",
       "      <td>378.66</td>\n",
       "      <td>0</td>\n",
       "    </tr>\n",
       "    <tr>\n",
       "      <th>3</th>\n",
       "      <td>1.0</td>\n",
       "      <td>-0.966272</td>\n",
       "      <td>-0.185226</td>\n",
       "      <td>1.792993</td>\n",
       "      <td>-0.863291</td>\n",
       "      <td>-0.010309</td>\n",
       "      <td>1.247203</td>\n",
       "      <td>0.237609</td>\n",
       "      <td>0.377436</td>\n",
       "      <td>-1.387024</td>\n",
       "      <td>...</td>\n",
       "      <td>-0.108300</td>\n",
       "      <td>0.005274</td>\n",
       "      <td>-0.190321</td>\n",
       "      <td>-1.175575</td>\n",
       "      <td>0.647376</td>\n",
       "      <td>-0.221929</td>\n",
       "      <td>0.062723</td>\n",
       "      <td>0.061458</td>\n",
       "      <td>123.50</td>\n",
       "      <td>0</td>\n",
       "    </tr>\n",
       "    <tr>\n",
       "      <th>4</th>\n",
       "      <td>2.0</td>\n",
       "      <td>-1.158233</td>\n",
       "      <td>0.877737</td>\n",
       "      <td>1.548718</td>\n",
       "      <td>0.403034</td>\n",
       "      <td>-0.407193</td>\n",
       "      <td>0.095921</td>\n",
       "      <td>0.592941</td>\n",
       "      <td>-0.270533</td>\n",
       "      <td>0.817739</td>\n",
       "      <td>...</td>\n",
       "      <td>-0.009431</td>\n",
       "      <td>0.798278</td>\n",
       "      <td>-0.137458</td>\n",
       "      <td>0.141267</td>\n",
       "      <td>-0.206010</td>\n",
       "      <td>0.502292</td>\n",
       "      <td>0.219422</td>\n",
       "      <td>0.215153</td>\n",
       "      <td>69.99</td>\n",
       "      <td>0</td>\n",
       "    </tr>\n",
       "  </tbody>\n",
       "</table>\n",
       "<p>5 rows × 31 columns</p>\n",
       "</div>"
      ],
      "text/plain": [
       "   Time        V1        V2        V3        V4        V5        V6        V7  \\\n",
       "0   0.0 -1.359807 -0.072781  2.536347  1.378155 -0.338321  0.462388  0.239599   \n",
       "1   0.0  1.191857  0.266151  0.166480  0.448154  0.060018 -0.082361 -0.078803   \n",
       "2   1.0 -1.358354 -1.340163  1.773209  0.379780 -0.503198  1.800499  0.791461   \n",
       "3   1.0 -0.966272 -0.185226  1.792993 -0.863291 -0.010309  1.247203  0.237609   \n",
       "4   2.0 -1.158233  0.877737  1.548718  0.403034 -0.407193  0.095921  0.592941   \n",
       "\n",
       "         V8        V9  ...       V21       V22       V23       V24       V25  \\\n",
       "0  0.098698  0.363787  ... -0.018307  0.277838 -0.110474  0.066928  0.128539   \n",
       "1  0.085102 -0.255425  ... -0.225775 -0.638672  0.101288 -0.339846  0.167170   \n",
       "2  0.247676 -1.514654  ...  0.247998  0.771679  0.909412 -0.689281 -0.327642   \n",
       "3  0.377436 -1.387024  ... -0.108300  0.005274 -0.190321 -1.175575  0.647376   \n",
       "4 -0.270533  0.817739  ... -0.009431  0.798278 -0.137458  0.141267 -0.206010   \n",
       "\n",
       "        V26       V27       V28  Amount  Class  \n",
       "0 -0.189115  0.133558 -0.021053  149.62      0  \n",
       "1  0.125895 -0.008983  0.014724    2.69      0  \n",
       "2 -0.139097 -0.055353 -0.059752  378.66      0  \n",
       "3 -0.221929  0.062723  0.061458  123.50      0  \n",
       "4  0.502292  0.219422  0.215153   69.99      0  \n",
       "\n",
       "[5 rows x 31 columns]"
      ]
     },
     "execution_count": 2,
     "metadata": {},
     "output_type": "execute_result"
    }
   ],
   "source": [
    "data_fraud=pd.read_csv(\"/kaggle/input/creditcardfraud/creditcard.csv\")\n",
    "data_fraud.head()"
   ]
  },
  {
   "cell_type": "code",
   "execution_count": 3,
   "id": "820aaa47",
   "metadata": {
    "execution": {
     "iopub.execute_input": "2023-08-27T14:45:22.307572Z",
     "iopub.status.busy": "2023-08-27T14:45:22.306254Z",
     "iopub.status.idle": "2023-08-27T14:45:22.314228Z",
     "shell.execute_reply": "2023-08-27T14:45:22.313277Z"
    },
    "papermill": {
     "duration": 0.027693,
     "end_time": "2023-08-27T14:45:22.316575",
     "exception": false,
     "start_time": "2023-08-27T14:45:22.288882",
     "status": "completed"
    },
    "tags": []
   },
   "outputs": [
    {
     "data": {
      "text/plain": [
       "(284807, 31)"
      ]
     },
     "execution_count": 3,
     "metadata": {},
     "output_type": "execute_result"
    }
   ],
   "source": [
    "#shape of the data set. \n",
    "data_fraud.shape      ##total number of rows and column in training dataset."
   ]
  },
  {
   "cell_type": "code",
   "execution_count": 4,
   "id": "d0c9441a",
   "metadata": {
    "execution": {
     "iopub.execute_input": "2023-08-27T14:45:22.348317Z",
     "iopub.status.busy": "2023-08-27T14:45:22.347942Z",
     "iopub.status.idle": "2023-08-27T14:45:22.375041Z",
     "shell.execute_reply": "2023-08-27T14:45:22.373836Z"
    },
    "papermill": {
     "duration": 0.046008,
     "end_time": "2023-08-27T14:45:22.377549",
     "exception": false,
     "start_time": "2023-08-27T14:45:22.331541",
     "status": "completed"
    },
    "tags": []
   },
   "outputs": [
    {
     "data": {
      "text/plain": [
       "Time      0\n",
       "V1        0\n",
       "V2        0\n",
       "V3        0\n",
       "V4        0\n",
       "V5        0\n",
       "V6        0\n",
       "V7        0\n",
       "V8        0\n",
       "V9        0\n",
       "V10       0\n",
       "V11       0\n",
       "V12       0\n",
       "V13       0\n",
       "V14       0\n",
       "V15       0\n",
       "V16       0\n",
       "V17       0\n",
       "V18       0\n",
       "V19       0\n",
       "V20       0\n",
       "V21       0\n",
       "V22       0\n",
       "V23       0\n",
       "V24       0\n",
       "V25       0\n",
       "V26       0\n",
       "V27       0\n",
       "V28       0\n",
       "Amount    0\n",
       "Class     0\n",
       "dtype: int64"
      ]
     },
     "execution_count": 4,
     "metadata": {},
     "output_type": "execute_result"
    }
   ],
   "source": [
    "#Total number of NULL Values in the data \n",
    "data_fraud.isnull().sum()                            #how many null values are there in data_fraud\n",
    "        \n",
    "#so as a result, there are No null values in the o data_fraud set."
   ]
  },
  {
   "cell_type": "markdown",
   "id": "9b03038c",
   "metadata": {
    "papermill": {
     "duration": 0.014531,
     "end_time": "2023-08-27T14:45:22.407010",
     "exception": false,
     "start_time": "2023-08-27T14:45:22.392479",
     "status": "completed"
    },
    "tags": []
   },
   "source": [
    "# **Exploratory Data Analysis (EDA)**\n",
    "EDA stands for Exploratory Data Analysis. It is a critical step in the data analysis process that involves examining and visualizing data sets to understand their main characteristics, patterns, and relationships. The primary goal of EDA is to gain insights, detect anomalies, and inform the data modeling process."
   ]
  },
  {
   "cell_type": "markdown",
   "id": "b0201149",
   "metadata": {
    "papermill": {
     "duration": 0.014619,
     "end_time": "2023-08-27T14:45:22.437011",
     "exception": false,
     "start_time": "2023-08-27T14:45:22.422392",
     "status": "completed"
    },
    "tags": []
   },
   "source": [
    "# **1. Summarize Data:**\n",
    "\n",
    "This involves calculating descriptive statistics such as **mean, median, mode, standard deviation,** and other relevant measures to understand the central tendency and spread of the data."
   ]
  },
  {
   "cell_type": "code",
   "execution_count": 5,
   "id": "9cef9841",
   "metadata": {
    "execution": {
     "iopub.execute_input": "2023-08-27T14:45:22.469605Z",
     "iopub.status.busy": "2023-08-27T14:45:22.469156Z",
     "iopub.status.idle": "2023-08-27T14:45:22.497528Z",
     "shell.execute_reply": "2023-08-27T14:45:22.496321Z"
    },
    "papermill": {
     "duration": 0.048168,
     "end_time": "2023-08-27T14:45:22.500045",
     "exception": false,
     "start_time": "2023-08-27T14:45:22.451877",
     "status": "completed"
    },
    "tags": []
   },
   "outputs": [
    {
     "data": {
      "text/html": [
       "<div>\n",
       "<style scoped>\n",
       "    .dataframe tbody tr th:only-of-type {\n",
       "        vertical-align: middle;\n",
       "    }\n",
       "\n",
       "    .dataframe tbody tr th {\n",
       "        vertical-align: top;\n",
       "    }\n",
       "\n",
       "    .dataframe thead th {\n",
       "        text-align: right;\n",
       "    }\n",
       "</style>\n",
       "<table border=\"1\" class=\"dataframe\">\n",
       "  <thead>\n",
       "    <tr style=\"text-align: right;\">\n",
       "      <th></th>\n",
       "      <th>Time</th>\n",
       "      <th>V1</th>\n",
       "      <th>V2</th>\n",
       "      <th>V3</th>\n",
       "      <th>V4</th>\n",
       "      <th>V5</th>\n",
       "      <th>V6</th>\n",
       "      <th>V7</th>\n",
       "      <th>V8</th>\n",
       "      <th>V9</th>\n",
       "      <th>...</th>\n",
       "      <th>V21</th>\n",
       "      <th>V22</th>\n",
       "      <th>V23</th>\n",
       "      <th>V24</th>\n",
       "      <th>V25</th>\n",
       "      <th>V26</th>\n",
       "      <th>V27</th>\n",
       "      <th>V28</th>\n",
       "      <th>Amount</th>\n",
       "      <th>Class</th>\n",
       "    </tr>\n",
       "  </thead>\n",
       "  <tbody>\n",
       "    <tr>\n",
       "      <th>0</th>\n",
       "      <td>0.0</td>\n",
       "      <td>-1.359807</td>\n",
       "      <td>-0.072781</td>\n",
       "      <td>2.536347</td>\n",
       "      <td>1.378155</td>\n",
       "      <td>-0.338321</td>\n",
       "      <td>0.462388</td>\n",
       "      <td>0.239599</td>\n",
       "      <td>0.098698</td>\n",
       "      <td>0.363787</td>\n",
       "      <td>...</td>\n",
       "      <td>-0.018307</td>\n",
       "      <td>0.277838</td>\n",
       "      <td>-0.110474</td>\n",
       "      <td>0.066928</td>\n",
       "      <td>0.128539</td>\n",
       "      <td>-0.189115</td>\n",
       "      <td>0.133558</td>\n",
       "      <td>-0.021053</td>\n",
       "      <td>149.62</td>\n",
       "      <td>0</td>\n",
       "    </tr>\n",
       "    <tr>\n",
       "      <th>1</th>\n",
       "      <td>0.0</td>\n",
       "      <td>1.191857</td>\n",
       "      <td>0.266151</td>\n",
       "      <td>0.166480</td>\n",
       "      <td>0.448154</td>\n",
       "      <td>0.060018</td>\n",
       "      <td>-0.082361</td>\n",
       "      <td>-0.078803</td>\n",
       "      <td>0.085102</td>\n",
       "      <td>-0.255425</td>\n",
       "      <td>...</td>\n",
       "      <td>-0.225775</td>\n",
       "      <td>-0.638672</td>\n",
       "      <td>0.101288</td>\n",
       "      <td>-0.339846</td>\n",
       "      <td>0.167170</td>\n",
       "      <td>0.125895</td>\n",
       "      <td>-0.008983</td>\n",
       "      <td>0.014724</td>\n",
       "      <td>2.69</td>\n",
       "      <td>0</td>\n",
       "    </tr>\n",
       "    <tr>\n",
       "      <th>2</th>\n",
       "      <td>1.0</td>\n",
       "      <td>-1.358354</td>\n",
       "      <td>-1.340163</td>\n",
       "      <td>1.773209</td>\n",
       "      <td>0.379780</td>\n",
       "      <td>-0.503198</td>\n",
       "      <td>1.800499</td>\n",
       "      <td>0.791461</td>\n",
       "      <td>0.247676</td>\n",
       "      <td>-1.514654</td>\n",
       "      <td>...</td>\n",
       "      <td>0.247998</td>\n",
       "      <td>0.771679</td>\n",
       "      <td>0.909412</td>\n",
       "      <td>-0.689281</td>\n",
       "      <td>-0.327642</td>\n",
       "      <td>-0.139097</td>\n",
       "      <td>-0.055353</td>\n",
       "      <td>-0.059752</td>\n",
       "      <td>378.66</td>\n",
       "      <td>0</td>\n",
       "    </tr>\n",
       "    <tr>\n",
       "      <th>3</th>\n",
       "      <td>1.0</td>\n",
       "      <td>-0.966272</td>\n",
       "      <td>-0.185226</td>\n",
       "      <td>1.792993</td>\n",
       "      <td>-0.863291</td>\n",
       "      <td>-0.010309</td>\n",
       "      <td>1.247203</td>\n",
       "      <td>0.237609</td>\n",
       "      <td>0.377436</td>\n",
       "      <td>-1.387024</td>\n",
       "      <td>...</td>\n",
       "      <td>-0.108300</td>\n",
       "      <td>0.005274</td>\n",
       "      <td>-0.190321</td>\n",
       "      <td>-1.175575</td>\n",
       "      <td>0.647376</td>\n",
       "      <td>-0.221929</td>\n",
       "      <td>0.062723</td>\n",
       "      <td>0.061458</td>\n",
       "      <td>123.50</td>\n",
       "      <td>0</td>\n",
       "    </tr>\n",
       "    <tr>\n",
       "      <th>4</th>\n",
       "      <td>2.0</td>\n",
       "      <td>-1.158233</td>\n",
       "      <td>0.877737</td>\n",
       "      <td>1.548718</td>\n",
       "      <td>0.403034</td>\n",
       "      <td>-0.407193</td>\n",
       "      <td>0.095921</td>\n",
       "      <td>0.592941</td>\n",
       "      <td>-0.270533</td>\n",
       "      <td>0.817739</td>\n",
       "      <td>...</td>\n",
       "      <td>-0.009431</td>\n",
       "      <td>0.798278</td>\n",
       "      <td>-0.137458</td>\n",
       "      <td>0.141267</td>\n",
       "      <td>-0.206010</td>\n",
       "      <td>0.502292</td>\n",
       "      <td>0.219422</td>\n",
       "      <td>0.215153</td>\n",
       "      <td>69.99</td>\n",
       "      <td>0</td>\n",
       "    </tr>\n",
       "  </tbody>\n",
       "</table>\n",
       "<p>5 rows × 31 columns</p>\n",
       "</div>"
      ],
      "text/plain": [
       "   Time        V1        V2        V3        V4        V5        V6        V7  \\\n",
       "0   0.0 -1.359807 -0.072781  2.536347  1.378155 -0.338321  0.462388  0.239599   \n",
       "1   0.0  1.191857  0.266151  0.166480  0.448154  0.060018 -0.082361 -0.078803   \n",
       "2   1.0 -1.358354 -1.340163  1.773209  0.379780 -0.503198  1.800499  0.791461   \n",
       "3   1.0 -0.966272 -0.185226  1.792993 -0.863291 -0.010309  1.247203  0.237609   \n",
       "4   2.0 -1.158233  0.877737  1.548718  0.403034 -0.407193  0.095921  0.592941   \n",
       "\n",
       "         V8        V9  ...       V21       V22       V23       V24       V25  \\\n",
       "0  0.098698  0.363787  ... -0.018307  0.277838 -0.110474  0.066928  0.128539   \n",
       "1  0.085102 -0.255425  ... -0.225775 -0.638672  0.101288 -0.339846  0.167170   \n",
       "2  0.247676 -1.514654  ...  0.247998  0.771679  0.909412 -0.689281 -0.327642   \n",
       "3  0.377436 -1.387024  ... -0.108300  0.005274 -0.190321 -1.175575  0.647376   \n",
       "4 -0.270533  0.817739  ... -0.009431  0.798278 -0.137458  0.141267 -0.206010   \n",
       "\n",
       "        V26       V27       V28  Amount  Class  \n",
       "0 -0.189115  0.133558 -0.021053  149.62      0  \n",
       "1  0.125895 -0.008983  0.014724    2.69      0  \n",
       "2 -0.139097 -0.055353 -0.059752  378.66      0  \n",
       "3 -0.221929  0.062723  0.061458  123.50      0  \n",
       "4  0.502292  0.219422  0.215153   69.99      0  \n",
       "\n",
       "[5 rows x 31 columns]"
      ]
     },
     "execution_count": 5,
     "metadata": {},
     "output_type": "execute_result"
    }
   ],
   "source": [
    "data_fraud.head()"
   ]
  },
  {
   "cell_type": "code",
   "execution_count": 6,
   "id": "01a26c40",
   "metadata": {
    "execution": {
     "iopub.execute_input": "2023-08-27T14:45:22.532888Z",
     "iopub.status.busy": "2023-08-27T14:45:22.532152Z",
     "iopub.status.idle": "2023-08-27T14:45:22.540082Z",
     "shell.execute_reply": "2023-08-27T14:45:22.538891Z"
    },
    "papermill": {
     "duration": 0.027321,
     "end_time": "2023-08-27T14:45:22.542673",
     "exception": false,
     "start_time": "2023-08-27T14:45:22.515352",
     "status": "completed"
    },
    "tags": []
   },
   "outputs": [
    {
     "data": {
      "text/plain": [
       "Index(['Time', 'V1', 'V2', 'V3', 'V4', 'V5', 'V6', 'V7', 'V8', 'V9', 'V10',\n",
       "       'V11', 'V12', 'V13', 'V14', 'V15', 'V16', 'V17', 'V18', 'V19', 'V20',\n",
       "       'V21', 'V22', 'V23', 'V24', 'V25', 'V26', 'V27', 'V28', 'Amount',\n",
       "       'Class'],\n",
       "      dtype='object')"
      ]
     },
     "execution_count": 6,
     "metadata": {},
     "output_type": "execute_result"
    }
   ],
   "source": [
    "data_fraud.columns"
   ]
  },
  {
   "cell_type": "code",
   "execution_count": 7,
   "id": "31829b4e",
   "metadata": {
    "execution": {
     "iopub.execute_input": "2023-08-27T14:45:22.575933Z",
     "iopub.status.busy": "2023-08-27T14:45:22.575458Z",
     "iopub.status.idle": "2023-08-27T14:45:22.621958Z",
     "shell.execute_reply": "2023-08-27T14:45:22.620204Z"
    },
    "papermill": {
     "duration": 0.066676,
     "end_time": "2023-08-27T14:45:22.625334",
     "exception": false,
     "start_time": "2023-08-27T14:45:22.558658",
     "status": "completed"
    },
    "tags": []
   },
   "outputs": [
    {
     "name": "stdout",
     "output_type": "stream",
     "text": [
      "<class 'pandas.core.frame.DataFrame'>\n",
      "RangeIndex: 284807 entries, 0 to 284806\n",
      "Data columns (total 31 columns):\n",
      " #   Column  Non-Null Count   Dtype  \n",
      "---  ------  --------------   -----  \n",
      " 0   Time    284807 non-null  float64\n",
      " 1   V1      284807 non-null  float64\n",
      " 2   V2      284807 non-null  float64\n",
      " 3   V3      284807 non-null  float64\n",
      " 4   V4      284807 non-null  float64\n",
      " 5   V5      284807 non-null  float64\n",
      " 6   V6      284807 non-null  float64\n",
      " 7   V7      284807 non-null  float64\n",
      " 8   V8      284807 non-null  float64\n",
      " 9   V9      284807 non-null  float64\n",
      " 10  V10     284807 non-null  float64\n",
      " 11  V11     284807 non-null  float64\n",
      " 12  V12     284807 non-null  float64\n",
      " 13  V13     284807 non-null  float64\n",
      " 14  V14     284807 non-null  float64\n",
      " 15  V15     284807 non-null  float64\n",
      " 16  V16     284807 non-null  float64\n",
      " 17  V17     284807 non-null  float64\n",
      " 18  V18     284807 non-null  float64\n",
      " 19  V19     284807 non-null  float64\n",
      " 20  V20     284807 non-null  float64\n",
      " 21  V21     284807 non-null  float64\n",
      " 22  V22     284807 non-null  float64\n",
      " 23  V23     284807 non-null  float64\n",
      " 24  V24     284807 non-null  float64\n",
      " 25  V25     284807 non-null  float64\n",
      " 26  V26     284807 non-null  float64\n",
      " 27  V27     284807 non-null  float64\n",
      " 28  V28     284807 non-null  float64\n",
      " 29  Amount  284807 non-null  float64\n",
      " 30  Class   284807 non-null  int64  \n",
      "dtypes: float64(30), int64(1)\n",
      "memory usage: 67.4 MB\n"
     ]
    }
   ],
   "source": [
    "#information about the dataset \n",
    "data_fraud.info()                 #There are total 31 features\n",
    "                           \n",
    "# All the features are  having numrical data type with no missing values."
   ]
  },
  {
   "cell_type": "code",
   "execution_count": 8,
   "id": "a3de3299",
   "metadata": {
    "execution": {
     "iopub.execute_input": "2023-08-27T14:45:22.659196Z",
     "iopub.status.busy": "2023-08-27T14:45:22.658700Z",
     "iopub.status.idle": "2023-08-27T14:45:23.229084Z",
     "shell.execute_reply": "2023-08-27T14:45:23.227972Z"
    },
    "papermill": {
     "duration": 0.592086,
     "end_time": "2023-08-27T14:45:23.233330",
     "exception": false,
     "start_time": "2023-08-27T14:45:22.641244",
     "status": "completed"
    },
    "tags": []
   },
   "outputs": [
    {
     "data": {
      "text/html": [
       "<div>\n",
       "<style scoped>\n",
       "    .dataframe tbody tr th:only-of-type {\n",
       "        vertical-align: middle;\n",
       "    }\n",
       "\n",
       "    .dataframe tbody tr th {\n",
       "        vertical-align: top;\n",
       "    }\n",
       "\n",
       "    .dataframe thead th {\n",
       "        text-align: right;\n",
       "    }\n",
       "</style>\n",
       "<table border=\"1\" class=\"dataframe\">\n",
       "  <thead>\n",
       "    <tr style=\"text-align: right;\">\n",
       "      <th></th>\n",
       "      <th>Time</th>\n",
       "      <th>V1</th>\n",
       "      <th>V2</th>\n",
       "      <th>V3</th>\n",
       "      <th>V4</th>\n",
       "      <th>V5</th>\n",
       "      <th>V6</th>\n",
       "      <th>V7</th>\n",
       "      <th>V8</th>\n",
       "      <th>V9</th>\n",
       "      <th>...</th>\n",
       "      <th>V21</th>\n",
       "      <th>V22</th>\n",
       "      <th>V23</th>\n",
       "      <th>V24</th>\n",
       "      <th>V25</th>\n",
       "      <th>V26</th>\n",
       "      <th>V27</th>\n",
       "      <th>V28</th>\n",
       "      <th>Amount</th>\n",
       "      <th>Class</th>\n",
       "    </tr>\n",
       "  </thead>\n",
       "  <tbody>\n",
       "    <tr>\n",
       "      <th>count</th>\n",
       "      <td>284807.000000</td>\n",
       "      <td>2.848070e+05</td>\n",
       "      <td>2.848070e+05</td>\n",
       "      <td>2.848070e+05</td>\n",
       "      <td>2.848070e+05</td>\n",
       "      <td>2.848070e+05</td>\n",
       "      <td>2.848070e+05</td>\n",
       "      <td>2.848070e+05</td>\n",
       "      <td>2.848070e+05</td>\n",
       "      <td>2.848070e+05</td>\n",
       "      <td>...</td>\n",
       "      <td>2.848070e+05</td>\n",
       "      <td>2.848070e+05</td>\n",
       "      <td>2.848070e+05</td>\n",
       "      <td>2.848070e+05</td>\n",
       "      <td>2.848070e+05</td>\n",
       "      <td>2.848070e+05</td>\n",
       "      <td>2.848070e+05</td>\n",
       "      <td>2.848070e+05</td>\n",
       "      <td>284807.000000</td>\n",
       "      <td>284807.000000</td>\n",
       "    </tr>\n",
       "    <tr>\n",
       "      <th>mean</th>\n",
       "      <td>94813.859575</td>\n",
       "      <td>1.168375e-15</td>\n",
       "      <td>3.416908e-16</td>\n",
       "      <td>-1.379537e-15</td>\n",
       "      <td>2.074095e-15</td>\n",
       "      <td>9.604066e-16</td>\n",
       "      <td>1.487313e-15</td>\n",
       "      <td>-5.556467e-16</td>\n",
       "      <td>1.213481e-16</td>\n",
       "      <td>-2.406331e-15</td>\n",
       "      <td>...</td>\n",
       "      <td>1.654067e-16</td>\n",
       "      <td>-3.568593e-16</td>\n",
       "      <td>2.578648e-16</td>\n",
       "      <td>4.473266e-15</td>\n",
       "      <td>5.340915e-16</td>\n",
       "      <td>1.683437e-15</td>\n",
       "      <td>-3.660091e-16</td>\n",
       "      <td>-1.227390e-16</td>\n",
       "      <td>88.349619</td>\n",
       "      <td>0.001727</td>\n",
       "    </tr>\n",
       "    <tr>\n",
       "      <th>std</th>\n",
       "      <td>47488.145955</td>\n",
       "      <td>1.958696e+00</td>\n",
       "      <td>1.651309e+00</td>\n",
       "      <td>1.516255e+00</td>\n",
       "      <td>1.415869e+00</td>\n",
       "      <td>1.380247e+00</td>\n",
       "      <td>1.332271e+00</td>\n",
       "      <td>1.237094e+00</td>\n",
       "      <td>1.194353e+00</td>\n",
       "      <td>1.098632e+00</td>\n",
       "      <td>...</td>\n",
       "      <td>7.345240e-01</td>\n",
       "      <td>7.257016e-01</td>\n",
       "      <td>6.244603e-01</td>\n",
       "      <td>6.056471e-01</td>\n",
       "      <td>5.212781e-01</td>\n",
       "      <td>4.822270e-01</td>\n",
       "      <td>4.036325e-01</td>\n",
       "      <td>3.300833e-01</td>\n",
       "      <td>250.120109</td>\n",
       "      <td>0.041527</td>\n",
       "    </tr>\n",
       "    <tr>\n",
       "      <th>min</th>\n",
       "      <td>0.000000</td>\n",
       "      <td>-5.640751e+01</td>\n",
       "      <td>-7.271573e+01</td>\n",
       "      <td>-4.832559e+01</td>\n",
       "      <td>-5.683171e+00</td>\n",
       "      <td>-1.137433e+02</td>\n",
       "      <td>-2.616051e+01</td>\n",
       "      <td>-4.355724e+01</td>\n",
       "      <td>-7.321672e+01</td>\n",
       "      <td>-1.343407e+01</td>\n",
       "      <td>...</td>\n",
       "      <td>-3.483038e+01</td>\n",
       "      <td>-1.093314e+01</td>\n",
       "      <td>-4.480774e+01</td>\n",
       "      <td>-2.836627e+00</td>\n",
       "      <td>-1.029540e+01</td>\n",
       "      <td>-2.604551e+00</td>\n",
       "      <td>-2.256568e+01</td>\n",
       "      <td>-1.543008e+01</td>\n",
       "      <td>0.000000</td>\n",
       "      <td>0.000000</td>\n",
       "    </tr>\n",
       "    <tr>\n",
       "      <th>25%</th>\n",
       "      <td>54201.500000</td>\n",
       "      <td>-9.203734e-01</td>\n",
       "      <td>-5.985499e-01</td>\n",
       "      <td>-8.903648e-01</td>\n",
       "      <td>-8.486401e-01</td>\n",
       "      <td>-6.915971e-01</td>\n",
       "      <td>-7.682956e-01</td>\n",
       "      <td>-5.540759e-01</td>\n",
       "      <td>-2.086297e-01</td>\n",
       "      <td>-6.430976e-01</td>\n",
       "      <td>...</td>\n",
       "      <td>-2.283949e-01</td>\n",
       "      <td>-5.423504e-01</td>\n",
       "      <td>-1.618463e-01</td>\n",
       "      <td>-3.545861e-01</td>\n",
       "      <td>-3.171451e-01</td>\n",
       "      <td>-3.269839e-01</td>\n",
       "      <td>-7.083953e-02</td>\n",
       "      <td>-5.295979e-02</td>\n",
       "      <td>5.600000</td>\n",
       "      <td>0.000000</td>\n",
       "    </tr>\n",
       "    <tr>\n",
       "      <th>50%</th>\n",
       "      <td>84692.000000</td>\n",
       "      <td>1.810880e-02</td>\n",
       "      <td>6.548556e-02</td>\n",
       "      <td>1.798463e-01</td>\n",
       "      <td>-1.984653e-02</td>\n",
       "      <td>-5.433583e-02</td>\n",
       "      <td>-2.741871e-01</td>\n",
       "      <td>4.010308e-02</td>\n",
       "      <td>2.235804e-02</td>\n",
       "      <td>-5.142873e-02</td>\n",
       "      <td>...</td>\n",
       "      <td>-2.945017e-02</td>\n",
       "      <td>6.781943e-03</td>\n",
       "      <td>-1.119293e-02</td>\n",
       "      <td>4.097606e-02</td>\n",
       "      <td>1.659350e-02</td>\n",
       "      <td>-5.213911e-02</td>\n",
       "      <td>1.342146e-03</td>\n",
       "      <td>1.124383e-02</td>\n",
       "      <td>22.000000</td>\n",
       "      <td>0.000000</td>\n",
       "    </tr>\n",
       "    <tr>\n",
       "      <th>75%</th>\n",
       "      <td>139320.500000</td>\n",
       "      <td>1.315642e+00</td>\n",
       "      <td>8.037239e-01</td>\n",
       "      <td>1.027196e+00</td>\n",
       "      <td>7.433413e-01</td>\n",
       "      <td>6.119264e-01</td>\n",
       "      <td>3.985649e-01</td>\n",
       "      <td>5.704361e-01</td>\n",
       "      <td>3.273459e-01</td>\n",
       "      <td>5.971390e-01</td>\n",
       "      <td>...</td>\n",
       "      <td>1.863772e-01</td>\n",
       "      <td>5.285536e-01</td>\n",
       "      <td>1.476421e-01</td>\n",
       "      <td>4.395266e-01</td>\n",
       "      <td>3.507156e-01</td>\n",
       "      <td>2.409522e-01</td>\n",
       "      <td>9.104512e-02</td>\n",
       "      <td>7.827995e-02</td>\n",
       "      <td>77.165000</td>\n",
       "      <td>0.000000</td>\n",
       "    </tr>\n",
       "    <tr>\n",
       "      <th>max</th>\n",
       "      <td>172792.000000</td>\n",
       "      <td>2.454930e+00</td>\n",
       "      <td>2.205773e+01</td>\n",
       "      <td>9.382558e+00</td>\n",
       "      <td>1.687534e+01</td>\n",
       "      <td>3.480167e+01</td>\n",
       "      <td>7.330163e+01</td>\n",
       "      <td>1.205895e+02</td>\n",
       "      <td>2.000721e+01</td>\n",
       "      <td>1.559499e+01</td>\n",
       "      <td>...</td>\n",
       "      <td>2.720284e+01</td>\n",
       "      <td>1.050309e+01</td>\n",
       "      <td>2.252841e+01</td>\n",
       "      <td>4.584549e+00</td>\n",
       "      <td>7.519589e+00</td>\n",
       "      <td>3.517346e+00</td>\n",
       "      <td>3.161220e+01</td>\n",
       "      <td>3.384781e+01</td>\n",
       "      <td>25691.160000</td>\n",
       "      <td>1.000000</td>\n",
       "    </tr>\n",
       "  </tbody>\n",
       "</table>\n",
       "<p>8 rows × 31 columns</p>\n",
       "</div>"
      ],
      "text/plain": [
       "                Time            V1            V2            V3            V4  \\\n",
       "count  284807.000000  2.848070e+05  2.848070e+05  2.848070e+05  2.848070e+05   \n",
       "mean    94813.859575  1.168375e-15  3.416908e-16 -1.379537e-15  2.074095e-15   \n",
       "std     47488.145955  1.958696e+00  1.651309e+00  1.516255e+00  1.415869e+00   \n",
       "min         0.000000 -5.640751e+01 -7.271573e+01 -4.832559e+01 -5.683171e+00   \n",
       "25%     54201.500000 -9.203734e-01 -5.985499e-01 -8.903648e-01 -8.486401e-01   \n",
       "50%     84692.000000  1.810880e-02  6.548556e-02  1.798463e-01 -1.984653e-02   \n",
       "75%    139320.500000  1.315642e+00  8.037239e-01  1.027196e+00  7.433413e-01   \n",
       "max    172792.000000  2.454930e+00  2.205773e+01  9.382558e+00  1.687534e+01   \n",
       "\n",
       "                 V5            V6            V7            V8            V9  \\\n",
       "count  2.848070e+05  2.848070e+05  2.848070e+05  2.848070e+05  2.848070e+05   \n",
       "mean   9.604066e-16  1.487313e-15 -5.556467e-16  1.213481e-16 -2.406331e-15   \n",
       "std    1.380247e+00  1.332271e+00  1.237094e+00  1.194353e+00  1.098632e+00   \n",
       "min   -1.137433e+02 -2.616051e+01 -4.355724e+01 -7.321672e+01 -1.343407e+01   \n",
       "25%   -6.915971e-01 -7.682956e-01 -5.540759e-01 -2.086297e-01 -6.430976e-01   \n",
       "50%   -5.433583e-02 -2.741871e-01  4.010308e-02  2.235804e-02 -5.142873e-02   \n",
       "75%    6.119264e-01  3.985649e-01  5.704361e-01  3.273459e-01  5.971390e-01   \n",
       "max    3.480167e+01  7.330163e+01  1.205895e+02  2.000721e+01  1.559499e+01   \n",
       "\n",
       "       ...           V21           V22           V23           V24  \\\n",
       "count  ...  2.848070e+05  2.848070e+05  2.848070e+05  2.848070e+05   \n",
       "mean   ...  1.654067e-16 -3.568593e-16  2.578648e-16  4.473266e-15   \n",
       "std    ...  7.345240e-01  7.257016e-01  6.244603e-01  6.056471e-01   \n",
       "min    ... -3.483038e+01 -1.093314e+01 -4.480774e+01 -2.836627e+00   \n",
       "25%    ... -2.283949e-01 -5.423504e-01 -1.618463e-01 -3.545861e-01   \n",
       "50%    ... -2.945017e-02  6.781943e-03 -1.119293e-02  4.097606e-02   \n",
       "75%    ...  1.863772e-01  5.285536e-01  1.476421e-01  4.395266e-01   \n",
       "max    ...  2.720284e+01  1.050309e+01  2.252841e+01  4.584549e+00   \n",
       "\n",
       "                V25           V26           V27           V28         Amount  \\\n",
       "count  2.848070e+05  2.848070e+05  2.848070e+05  2.848070e+05  284807.000000   \n",
       "mean   5.340915e-16  1.683437e-15 -3.660091e-16 -1.227390e-16      88.349619   \n",
       "std    5.212781e-01  4.822270e-01  4.036325e-01  3.300833e-01     250.120109   \n",
       "min   -1.029540e+01 -2.604551e+00 -2.256568e+01 -1.543008e+01       0.000000   \n",
       "25%   -3.171451e-01 -3.269839e-01 -7.083953e-02 -5.295979e-02       5.600000   \n",
       "50%    1.659350e-02 -5.213911e-02  1.342146e-03  1.124383e-02      22.000000   \n",
       "75%    3.507156e-01  2.409522e-01  9.104512e-02  7.827995e-02      77.165000   \n",
       "max    7.519589e+00  3.517346e+00  3.161220e+01  3.384781e+01   25691.160000   \n",
       "\n",
       "               Class  \n",
       "count  284807.000000  \n",
       "mean        0.001727  \n",
       "std         0.041527  \n",
       "min         0.000000  \n",
       "25%         0.000000  \n",
       "50%         0.000000  \n",
       "75%         0.000000  \n",
       "max         1.000000  \n",
       "\n",
       "[8 rows x 31 columns]"
      ]
     },
     "execution_count": 8,
     "metadata": {},
     "output_type": "execute_result"
    }
   ],
   "source": [
    "data_fraud.describe()     #The data_fraud.describe method provides a statistical summary \n",
    "                         #of the numerical columns in the data DataFrame"
   ]
  },
  {
   "cell_type": "code",
   "execution_count": 9,
   "id": "2a615e39",
   "metadata": {
    "execution": {
     "iopub.execute_input": "2023-08-27T14:45:23.278591Z",
     "iopub.status.busy": "2023-08-27T14:45:23.278110Z",
     "iopub.status.idle": "2023-08-27T14:45:23.297521Z",
     "shell.execute_reply": "2023-08-27T14:45:23.295979Z"
    },
    "papermill": {
     "duration": 0.042415,
     "end_time": "2023-08-27T14:45:23.300213",
     "exception": false,
     "start_time": "2023-08-27T14:45:23.257798",
     "status": "completed"
    },
    "tags": []
   },
   "outputs": [
    {
     "name": "stdout",
     "output_type": "stream",
     "text": [
      "No Frauds 99.83 % of the dataset\n",
      "Frauds 0.17 % of the dataset\n"
     ]
    }
   ],
   "source": [
    "# The classes are heavily skewed we need to solve this issue later.\n",
    "print('No Frauds', round(data_fraud['Class'].value_counts()[0]/len(data_fraud) * 100,2), '% of the dataset')\n",
    "print('Frauds', round(data_fraud['Class'].value_counts()[1]/len(data_fraud) * 100,2), '% of the dataset')"
   ]
  },
  {
   "cell_type": "markdown",
   "id": "d9eb69dc",
   "metadata": {
    "papermill": {
     "duration": 0.01633,
     "end_time": "2023-08-27T14:45:23.333286",
     "exception": false,
     "start_time": "2023-08-27T14:45:23.316956",
     "status": "completed"
    },
    "tags": []
   },
   "source": [
    "**Note**: Notice how imbalanced is our original dataset! Most of the transactions are non-fraud. If we use this dataframe as the base for our predictive models and analysis we might get a lot of errors and our algorithms will probably overfit since it will \"assume\" that most transactions are not fraud. But we don't want our model to assume, we want our model to detect patterns that give signs of fraud!"
   ]
  },
  {
   "cell_type": "markdown",
   "id": "192d4f11",
   "metadata": {
    "papermill": {
     "duration": 0.016018,
     "end_time": "2023-08-27T14:45:23.365933",
     "exception": false,
     "start_time": "2023-08-27T14:45:23.349915",
     "status": "completed"
    },
    "tags": []
   },
   "source": [
    "# **2. Visualisation and Insights**\n",
    "Data Visualisation: Data visualization refers to the graphical representation of data and information using visual elements such as **charts, graphs, and maps**. The primary goal of data visualization is to present complex datasets in a visually appealing and easy-to-understand format"
   ]
  },
  {
   "cell_type": "code",
   "execution_count": 10,
   "id": "f596329e",
   "metadata": {
    "execution": {
     "iopub.execute_input": "2023-08-27T14:45:23.400706Z",
     "iopub.status.busy": "2023-08-27T14:45:23.400211Z",
     "iopub.status.idle": "2023-08-27T14:45:25.307486Z",
     "shell.execute_reply": "2023-08-27T14:45:25.305793Z"
    },
    "papermill": {
     "duration": 1.928043,
     "end_time": "2023-08-27T14:45:25.310248",
     "exception": false,
     "start_time": "2023-08-27T14:45:23.382205",
     "status": "completed"
    },
    "tags": []
   },
   "outputs": [
    {
     "name": "stderr",
     "output_type": "stream",
     "text": [
      "/opt/conda/lib/python3.10/site-packages/scipy/__init__.py:146: UserWarning: A NumPy version >=1.16.5 and <1.23.0 is required for this version of SciPy (detected version 1.23.5\n",
      "  warnings.warn(f\"A NumPy version >={np_minversion} and <{np_maxversion}\"\n"
     ]
    },
    {
     "data": {
      "text/plain": [
       "Text(0.5, 1.0, 'Class Distributions \\n (0: No Fraud || 1: Fraud)')"
      ]
     },
     "execution_count": 10,
     "metadata": {},
     "output_type": "execute_result"
    },
    {
     "data": {
      "image/png": "[encoded data removed]",
      "text/plain": [
       "<Figure size 640x480 with 1 Axes>"
      ]
     },
     "metadata": {},
     "output_type": "display_data"
    }
   ],
   "source": [
    "import seaborn as sns\n",
    "import matplotlib.pyplot as plt\n",
    "colors = [\"#FFA500\", \"#ADD8E6\"]\n",
    "\n",
    "sns.countplot(x='Class', data=data_fraud, palette=colors)\n",
    "plt.title('Class Distributions \\n (0: No Fraud || 1: Fraud)', fontsize=14)"
   ]
  },
  {
   "cell_type": "markdown",
   "id": "09893429",
   "metadata": {
    "papermill": {
     "duration": 0.016736,
     "end_time": "2023-08-27T14:45:25.344349",
     "exception": false,
     "start_time": "2023-08-27T14:45:25.327613",
     "status": "completed"
    },
    "tags": []
   },
   "source": [
    "**Distributions:** By seeing the distributions we can have an idea how skewed are these features, we can also see further distributions of the other features. There are techniques that can help the distributions be less skewed which will be implemented in this notebook in the future."
   ]
  },
  {
   "cell_type": "code",
   "execution_count": 11,
   "id": "b9e192c5",
   "metadata": {
    "execution": {
     "iopub.execute_input": "2023-08-27T14:45:25.381444Z",
     "iopub.status.busy": "2023-08-27T14:45:25.380974Z",
     "iopub.status.idle": "2023-08-27T14:45:27.277035Z",
     "shell.execute_reply": "2023-08-27T14:45:27.275594Z"
    },
    "papermill": {
     "duration": 1.918158,
     "end_time": "2023-08-27T14:45:27.279993",
     "exception": false,
     "start_time": "2023-08-27T14:45:25.361835",
     "status": "completed"
    },
    "tags": []
   },
   "outputs": [
    {
     "data": {
      "image/png": "[encoded data removed]",
      "text/plain": [
       "<Figure size 700x400 with 1 Axes>"
      ]
     },
     "metadata": {},
     "output_type": "display_data"
    }
   ],
   "source": [
    "fig, ax = plt.subplots(1, figsize=(7, 4))  # Create a figure and axis\n",
    "\n",
    "time_val = data_fraud['Time'].values\n",
    "\n",
    "sns.histplot(time_val, ax=ax, color='r',kde='True')  # Use the 'ax' parameter to specify the axis\n",
    "ax.set_title('Distribution of Time', fontsize=14)  # Set title for the axis\n",
    "ax.set_xlim([min(time_val), max(time_val)])  # Set x-axis limits\n",
    "\n",
    "plt.show()  # Show the plot\n"
   ]
  },
  {
   "cell_type": "markdown",
   "id": "350cf2c8",
   "metadata": {
    "papermill": {
     "duration": 0.016938,
     "end_time": "2023-08-27T14:45:27.315090",
     "exception": false,
     "start_time": "2023-08-27T14:45:27.298152",
     "status": "completed"
    },
    "tags": []
   },
   "source": [
    "**Scaling and Distributing**\n",
    "\n",
    "In this phase of our kernel, we will first scale the columns comprise of **Time and Amount** . Time and amount should be scaled as the other columns. On the other hand, we need to also create a sub sample of the dataframe in order to have an equal amount of Fraud and Non-Fraud cases, helping our algorithms better understand patterns that determines whether a transaction is a fraud or not"
   ]
  },
  {
   "cell_type": "markdown",
   "id": "d811a4d3",
   "metadata": {
    "papermill": {
     "duration": 0.017923,
     "end_time": "2023-08-27T14:45:27.350205",
     "exception": false,
     "start_time": "2023-08-27T14:45:27.332282",
     "status": "completed"
    },
    "tags": []
   },
   "source": [
    "make a sub-sample which will contian the scaled_time and scaled_amount."
   ]
  },
  {
   "cell_type": "code",
   "execution_count": 12,
   "id": "83422503",
   "metadata": {
    "execution": {
     "iopub.execute_input": "2023-08-27T14:45:27.389281Z",
     "iopub.status.busy": "2023-08-27T14:45:27.388289Z",
     "iopub.status.idle": "2023-08-27T14:45:27.726082Z",
     "shell.execute_reply": "2023-08-27T14:45:27.724826Z"
    },
    "papermill": {
     "duration": 0.360194,
     "end_time": "2023-08-27T14:45:27.728857",
     "exception": false,
     "start_time": "2023-08-27T14:45:27.368663",
     "status": "completed"
    },
    "tags": []
   },
   "outputs": [
    {
     "data": {
      "text/html": [
       "<div>\n",
       "<style scoped>\n",
       "    .dataframe tbody tr th:only-of-type {\n",
       "        vertical-align: middle;\n",
       "    }\n",
       "\n",
       "    .dataframe tbody tr th {\n",
       "        vertical-align: top;\n",
       "    }\n",
       "\n",
       "    .dataframe thead th {\n",
       "        text-align: right;\n",
       "    }\n",
       "</style>\n",
       "<table border=\"1\" class=\"dataframe\">\n",
       "  <thead>\n",
       "    <tr style=\"text-align: right;\">\n",
       "      <th></th>\n",
       "      <th>V1</th>\n",
       "      <th>V2</th>\n",
       "      <th>V3</th>\n",
       "      <th>V4</th>\n",
       "      <th>V5</th>\n",
       "      <th>V6</th>\n",
       "      <th>V7</th>\n",
       "      <th>V8</th>\n",
       "      <th>V9</th>\n",
       "      <th>V10</th>\n",
       "      <th>...</th>\n",
       "      <th>V22</th>\n",
       "      <th>V23</th>\n",
       "      <th>V24</th>\n",
       "      <th>V25</th>\n",
       "      <th>V26</th>\n",
       "      <th>V27</th>\n",
       "      <th>V28</th>\n",
       "      <th>Class</th>\n",
       "      <th>scaled_amount</th>\n",
       "      <th>scaled_time</th>\n",
       "    </tr>\n",
       "  </thead>\n",
       "  <tbody>\n",
       "    <tr>\n",
       "      <th>0</th>\n",
       "      <td>-1.359807</td>\n",
       "      <td>-0.072781</td>\n",
       "      <td>2.536347</td>\n",
       "      <td>1.378155</td>\n",
       "      <td>-0.338321</td>\n",
       "      <td>0.462388</td>\n",
       "      <td>0.239599</td>\n",
       "      <td>0.098698</td>\n",
       "      <td>0.363787</td>\n",
       "      <td>0.090794</td>\n",
       "      <td>...</td>\n",
       "      <td>0.277838</td>\n",
       "      <td>-0.110474</td>\n",
       "      <td>0.066928</td>\n",
       "      <td>0.128539</td>\n",
       "      <td>-0.189115</td>\n",
       "      <td>0.133558</td>\n",
       "      <td>-0.021053</td>\n",
       "      <td>0</td>\n",
       "      <td>1.783274</td>\n",
       "      <td>-0.994983</td>\n",
       "    </tr>\n",
       "    <tr>\n",
       "      <th>1</th>\n",
       "      <td>1.191857</td>\n",
       "      <td>0.266151</td>\n",
       "      <td>0.166480</td>\n",
       "      <td>0.448154</td>\n",
       "      <td>0.060018</td>\n",
       "      <td>-0.082361</td>\n",
       "      <td>-0.078803</td>\n",
       "      <td>0.085102</td>\n",
       "      <td>-0.255425</td>\n",
       "      <td>-0.166974</td>\n",
       "      <td>...</td>\n",
       "      <td>-0.638672</td>\n",
       "      <td>0.101288</td>\n",
       "      <td>-0.339846</td>\n",
       "      <td>0.167170</td>\n",
       "      <td>0.125895</td>\n",
       "      <td>-0.008983</td>\n",
       "      <td>0.014724</td>\n",
       "      <td>0</td>\n",
       "      <td>-0.269825</td>\n",
       "      <td>-0.994983</td>\n",
       "    </tr>\n",
       "    <tr>\n",
       "      <th>2</th>\n",
       "      <td>-1.358354</td>\n",
       "      <td>-1.340163</td>\n",
       "      <td>1.773209</td>\n",
       "      <td>0.379780</td>\n",
       "      <td>-0.503198</td>\n",
       "      <td>1.800499</td>\n",
       "      <td>0.791461</td>\n",
       "      <td>0.247676</td>\n",
       "      <td>-1.514654</td>\n",
       "      <td>0.207643</td>\n",
       "      <td>...</td>\n",
       "      <td>0.771679</td>\n",
       "      <td>0.909412</td>\n",
       "      <td>-0.689281</td>\n",
       "      <td>-0.327642</td>\n",
       "      <td>-0.139097</td>\n",
       "      <td>-0.055353</td>\n",
       "      <td>-0.059752</td>\n",
       "      <td>0</td>\n",
       "      <td>4.983721</td>\n",
       "      <td>-0.994972</td>\n",
       "    </tr>\n",
       "    <tr>\n",
       "      <th>3</th>\n",
       "      <td>-0.966272</td>\n",
       "      <td>-0.185226</td>\n",
       "      <td>1.792993</td>\n",
       "      <td>-0.863291</td>\n",
       "      <td>-0.010309</td>\n",
       "      <td>1.247203</td>\n",
       "      <td>0.237609</td>\n",
       "      <td>0.377436</td>\n",
       "      <td>-1.387024</td>\n",
       "      <td>-0.054952</td>\n",
       "      <td>...</td>\n",
       "      <td>0.005274</td>\n",
       "      <td>-0.190321</td>\n",
       "      <td>-1.175575</td>\n",
       "      <td>0.647376</td>\n",
       "      <td>-0.221929</td>\n",
       "      <td>0.062723</td>\n",
       "      <td>0.061458</td>\n",
       "      <td>0</td>\n",
       "      <td>1.418291</td>\n",
       "      <td>-0.994972</td>\n",
       "    </tr>\n",
       "    <tr>\n",
       "      <th>4</th>\n",
       "      <td>-1.158233</td>\n",
       "      <td>0.877737</td>\n",
       "      <td>1.548718</td>\n",
       "      <td>0.403034</td>\n",
       "      <td>-0.407193</td>\n",
       "      <td>0.095921</td>\n",
       "      <td>0.592941</td>\n",
       "      <td>-0.270533</td>\n",
       "      <td>0.817739</td>\n",
       "      <td>0.753074</td>\n",
       "      <td>...</td>\n",
       "      <td>0.798278</td>\n",
       "      <td>-0.137458</td>\n",
       "      <td>0.141267</td>\n",
       "      <td>-0.206010</td>\n",
       "      <td>0.502292</td>\n",
       "      <td>0.219422</td>\n",
       "      <td>0.215153</td>\n",
       "      <td>0</td>\n",
       "      <td>0.670579</td>\n",
       "      <td>-0.994960</td>\n",
       "    </tr>\n",
       "    <tr>\n",
       "      <th>...</th>\n",
       "      <td>...</td>\n",
       "      <td>...</td>\n",
       "      <td>...</td>\n",
       "      <td>...</td>\n",
       "      <td>...</td>\n",
       "      <td>...</td>\n",
       "      <td>...</td>\n",
       "      <td>...</td>\n",
       "      <td>...</td>\n",
       "      <td>...</td>\n",
       "      <td>...</td>\n",
       "      <td>...</td>\n",
       "      <td>...</td>\n",
       "      <td>...</td>\n",
       "      <td>...</td>\n",
       "      <td>...</td>\n",
       "      <td>...</td>\n",
       "      <td>...</td>\n",
       "      <td>...</td>\n",
       "      <td>...</td>\n",
       "      <td>...</td>\n",
       "    </tr>\n",
       "    <tr>\n",
       "      <th>284802</th>\n",
       "      <td>-11.881118</td>\n",
       "      <td>10.071785</td>\n",
       "      <td>-9.834783</td>\n",
       "      <td>-2.066656</td>\n",
       "      <td>-5.364473</td>\n",
       "      <td>-2.606837</td>\n",
       "      <td>-4.918215</td>\n",
       "      <td>7.305334</td>\n",
       "      <td>1.914428</td>\n",
       "      <td>4.356170</td>\n",
       "      <td>...</td>\n",
       "      <td>0.111864</td>\n",
       "      <td>1.014480</td>\n",
       "      <td>-0.509348</td>\n",
       "      <td>1.436807</td>\n",
       "      <td>0.250034</td>\n",
       "      <td>0.943651</td>\n",
       "      <td>0.823731</td>\n",
       "      <td>0</td>\n",
       "      <td>-0.296653</td>\n",
       "      <td>1.034951</td>\n",
       "    </tr>\n",
       "    <tr>\n",
       "      <th>284803</th>\n",
       "      <td>-0.732789</td>\n",
       "      <td>-0.055080</td>\n",
       "      <td>2.035030</td>\n",
       "      <td>-0.738589</td>\n",
       "      <td>0.868229</td>\n",
       "      <td>1.058415</td>\n",
       "      <td>0.024330</td>\n",
       "      <td>0.294869</td>\n",
       "      <td>0.584800</td>\n",
       "      <td>-0.975926</td>\n",
       "      <td>...</td>\n",
       "      <td>0.924384</td>\n",
       "      <td>0.012463</td>\n",
       "      <td>-1.016226</td>\n",
       "      <td>-0.606624</td>\n",
       "      <td>-0.395255</td>\n",
       "      <td>0.068472</td>\n",
       "      <td>-0.053527</td>\n",
       "      <td>0</td>\n",
       "      <td>0.038986</td>\n",
       "      <td>1.034963</td>\n",
       "    </tr>\n",
       "    <tr>\n",
       "      <th>284804</th>\n",
       "      <td>1.919565</td>\n",
       "      <td>-0.301254</td>\n",
       "      <td>-3.249640</td>\n",
       "      <td>-0.557828</td>\n",
       "      <td>2.630515</td>\n",
       "      <td>3.031260</td>\n",
       "      <td>-0.296827</td>\n",
       "      <td>0.708417</td>\n",
       "      <td>0.432454</td>\n",
       "      <td>-0.484782</td>\n",
       "      <td>...</td>\n",
       "      <td>0.578229</td>\n",
       "      <td>-0.037501</td>\n",
       "      <td>0.640134</td>\n",
       "      <td>0.265745</td>\n",
       "      <td>-0.087371</td>\n",
       "      <td>0.004455</td>\n",
       "      <td>-0.026561</td>\n",
       "      <td>0</td>\n",
       "      <td>0.641096</td>\n",
       "      <td>1.034975</td>\n",
       "    </tr>\n",
       "    <tr>\n",
       "      <th>284805</th>\n",
       "      <td>-0.240440</td>\n",
       "      <td>0.530483</td>\n",
       "      <td>0.702510</td>\n",
       "      <td>0.689799</td>\n",
       "      <td>-0.377961</td>\n",
       "      <td>0.623708</td>\n",
       "      <td>-0.686180</td>\n",
       "      <td>0.679145</td>\n",
       "      <td>0.392087</td>\n",
       "      <td>-0.399126</td>\n",
       "      <td>...</td>\n",
       "      <td>0.800049</td>\n",
       "      <td>-0.163298</td>\n",
       "      <td>0.123205</td>\n",
       "      <td>-0.569159</td>\n",
       "      <td>0.546668</td>\n",
       "      <td>0.108821</td>\n",
       "      <td>0.104533</td>\n",
       "      <td>0</td>\n",
       "      <td>-0.167680</td>\n",
       "      <td>1.034975</td>\n",
       "    </tr>\n",
       "    <tr>\n",
       "      <th>284806</th>\n",
       "      <td>-0.533413</td>\n",
       "      <td>-0.189733</td>\n",
       "      <td>0.703337</td>\n",
       "      <td>-0.506271</td>\n",
       "      <td>-0.012546</td>\n",
       "      <td>-0.649617</td>\n",
       "      <td>1.577006</td>\n",
       "      <td>-0.414650</td>\n",
       "      <td>0.486180</td>\n",
       "      <td>-0.915427</td>\n",
       "      <td>...</td>\n",
       "      <td>0.643078</td>\n",
       "      <td>0.376777</td>\n",
       "      <td>0.008797</td>\n",
       "      <td>-0.473649</td>\n",
       "      <td>-0.818267</td>\n",
       "      <td>-0.002415</td>\n",
       "      <td>0.013649</td>\n",
       "      <td>0</td>\n",
       "      <td>2.724796</td>\n",
       "      <td>1.035022</td>\n",
       "    </tr>\n",
       "  </tbody>\n",
       "</table>\n",
       "<p>284807 rows × 31 columns</p>\n",
       "</div>"
      ],
      "text/plain": [
       "               V1         V2        V3        V4        V5        V6  \\\n",
       "0       -1.359807  -0.072781  2.536347  1.378155 -0.338321  0.462388   \n",
       "1        1.191857   0.266151  0.166480  0.448154  0.060018 -0.082361   \n",
       "2       -1.358354  -1.340163  1.773209  0.379780 -0.503198  1.800499   \n",
       "3       -0.966272  -0.185226  1.792993 -0.863291 -0.010309  1.247203   \n",
       "4       -1.158233   0.877737  1.548718  0.403034 -0.407193  0.095921   \n",
       "...           ...        ...       ...       ...       ...       ...   \n",
       "284802 -11.881118  10.071785 -9.834783 -2.066656 -5.364473 -2.606837   \n",
       "284803  -0.732789  -0.055080  2.035030 -0.738589  0.868229  1.058415   \n",
       "284804   1.919565  -0.301254 -3.249640 -0.557828  2.630515  3.031260   \n",
       "284805  -0.240440   0.530483  0.702510  0.689799 -0.377961  0.623708   \n",
       "284806  -0.533413  -0.189733  0.703337 -0.506271 -0.012546 -0.649617   \n",
       "\n",
       "              V7        V8        V9       V10  ...       V22       V23  \\\n",
       "0       0.239599  0.098698  0.363787  0.090794  ...  0.277838 -0.110474   \n",
       "1      -0.078803  0.085102 -0.255425 -0.166974  ... -0.638672  0.101288   \n",
       "2       0.791461  0.247676 -1.514654  0.207643  ...  0.771679  0.909412   \n",
       "3       0.237609  0.377436 -1.387024 -0.054952  ...  0.005274 -0.190321   \n",
       "4       0.592941 -0.270533  0.817739  0.753074  ...  0.798278 -0.137458   \n",
       "...          ...       ...       ...       ...  ...       ...       ...   \n",
       "284802 -4.918215  7.305334  1.914428  4.356170  ...  0.111864  1.014480   \n",
       "284803  0.024330  0.294869  0.584800 -0.975926  ...  0.924384  0.012463   \n",
       "284804 -0.296827  0.708417  0.432454 -0.484782  ...  0.578229 -0.037501   \n",
       "284805 -0.686180  0.679145  0.392087 -0.399126  ...  0.800049 -0.163298   \n",
       "284806  1.577006 -0.414650  0.486180 -0.915427  ...  0.643078  0.376777   \n",
       "\n",
       "             V24       V25       V26       V27       V28  Class  \\\n",
       "0       0.066928  0.128539 -0.189115  0.133558 -0.021053      0   \n",
       "1      -0.339846  0.167170  0.125895 -0.008983  0.014724      0   \n",
       "2      -0.689281 -0.327642 -0.139097 -0.055353 -0.059752      0   \n",
       "3      -1.175575  0.647376 -0.221929  0.062723  0.061458      0   \n",
       "4       0.141267 -0.206010  0.502292  0.219422  0.215153      0   \n",
       "...          ...       ...       ...       ...       ...    ...   \n",
       "284802 -0.509348  1.436807  0.250034  0.943651  0.823731      0   \n",
       "284803 -1.016226 -0.606624 -0.395255  0.068472 -0.053527      0   \n",
       "284804  0.640134  0.265745 -0.087371  0.004455 -0.026561      0   \n",
       "284805  0.123205 -0.569159  0.546668  0.108821  0.104533      0   \n",
       "284806  0.008797 -0.473649 -0.818267 -0.002415  0.013649      0   \n",
       "\n",
       "        scaled_amount  scaled_time  \n",
       "0            1.783274    -0.994983  \n",
       "1           -0.269825    -0.994983  \n",
       "2            4.983721    -0.994972  \n",
       "3            1.418291    -0.994972  \n",
       "4            0.670579    -0.994960  \n",
       "...               ...          ...  \n",
       "284802      -0.296653     1.034951  \n",
       "284803       0.038986     1.034963  \n",
       "284804       0.641096     1.034975  \n",
       "284805      -0.167680     1.034975  \n",
       "284806       2.724796     1.035022  \n",
       "\n",
       "[284807 rows x 31 columns]"
      ]
     },
     "execution_count": 12,
     "metadata": {},
     "output_type": "execute_result"
    }
   ],
   "source": [
    "# Since most of our data has already been scaled we should scale the columns that are left to scale (Amount and Time)\n",
    "from sklearn.preprocessing import StandardScaler, RobustScaler\n",
    "\n",
    "std_scaler = StandardScaler()\n",
    "rob_scaler = RobustScaler()\n",
    "\n",
    "data_fraud['scaled_amount'] = rob_scaler.fit_transform(data_fraud['Amount'].values.reshape(-1,1))\n",
    "data_fraud['scaled_time'] = rob_scaler.fit_transform(data_fraud['Time'].values.reshape(-1,1))\n",
    "\n",
    "data_fraud.drop(['Time','Amount'], axis=1, inplace=True)\n",
    "data_fraud\n"
   ]
  },
  {
   "cell_type": "markdown",
   "id": "d1d242b6",
   "metadata": {
    "papermill": {
     "duration": 0.019313,
     "end_time": "2023-08-27T14:45:27.767252",
     "exception": false,
     "start_time": "2023-08-27T14:45:27.747939",
     "status": "completed"
    },
    "tags": []
   },
   "source": [
    "# **Resampling Techniques:**\n",
    "\n",
    "Dealing with **imbalanced datasets** is a common challenge in machine learning, especially in scenarios where one class has **significantly fewer samples than the other(s)**. Imbalanced datasets can lead to **biased model performance** and inaccurate predictions, as models tend to favor the majority class. Here are several strategies to address imbalanced datasets"
   ]
  },
  {
   "cell_type": "code",
   "execution_count": 13,
   "id": "6bbc88c0",
   "metadata": {
    "execution": {
     "iopub.execute_input": "2023-08-27T14:45:27.807289Z",
     "iopub.status.busy": "2023-08-27T14:45:27.806826Z",
     "iopub.status.idle": "2023-08-27T14:45:27.998928Z",
     "shell.execute_reply": "2023-08-27T14:45:27.997593Z"
    },
    "papermill": {
     "duration": 0.215282,
     "end_time": "2023-08-27T14:45:28.001776",
     "exception": false,
     "start_time": "2023-08-27T14:45:27.786494",
     "status": "completed"
    },
    "tags": []
   },
   "outputs": [
    {
     "data": {
      "text/html": [
       "<div>\n",
       "<style scoped>\n",
       "    .dataframe tbody tr th:only-of-type {\n",
       "        vertical-align: middle;\n",
       "    }\n",
       "\n",
       "    .dataframe tbody tr th {\n",
       "        vertical-align: top;\n",
       "    }\n",
       "\n",
       "    .dataframe thead th {\n",
       "        text-align: right;\n",
       "    }\n",
       "</style>\n",
       "<table border=\"1\" class=\"dataframe\">\n",
       "  <thead>\n",
       "    <tr style=\"text-align: right;\">\n",
       "      <th></th>\n",
       "      <th>V1</th>\n",
       "      <th>V2</th>\n",
       "      <th>V3</th>\n",
       "      <th>V4</th>\n",
       "      <th>V5</th>\n",
       "      <th>V6</th>\n",
       "      <th>V7</th>\n",
       "      <th>V8</th>\n",
       "      <th>V9</th>\n",
       "      <th>V10</th>\n",
       "      <th>...</th>\n",
       "      <th>V22</th>\n",
       "      <th>V23</th>\n",
       "      <th>V24</th>\n",
       "      <th>V25</th>\n",
       "      <th>V26</th>\n",
       "      <th>V27</th>\n",
       "      <th>V28</th>\n",
       "      <th>Class</th>\n",
       "      <th>scaled_amount</th>\n",
       "      <th>scaled_time</th>\n",
       "    </tr>\n",
       "  </thead>\n",
       "  <tbody>\n",
       "    <tr>\n",
       "      <th>81042</th>\n",
       "      <td>-0.306231</td>\n",
       "      <td>0.033811</td>\n",
       "      <td>1.684815</td>\n",
       "      <td>-1.149371</td>\n",
       "      <td>-0.800581</td>\n",
       "      <td>-0.805059</td>\n",
       "      <td>0.086194</td>\n",
       "      <td>0.005790</td>\n",
       "      <td>-1.274462</td>\n",
       "      <td>0.149180</td>\n",
       "      <td>...</td>\n",
       "      <td>0.664775</td>\n",
       "      <td>-0.010622</td>\n",
       "      <td>0.587973</td>\n",
       "      <td>-0.130572</td>\n",
       "      <td>-0.249142</td>\n",
       "      <td>0.055531</td>\n",
       "      <td>0.058146</td>\n",
       "      <td>0</td>\n",
       "      <td>0.183749</td>\n",
       "      <td>-0.304585</td>\n",
       "    </tr>\n",
       "    <tr>\n",
       "      <th>151196</th>\n",
       "      <td>0.842025</td>\n",
       "      <td>-0.365518</td>\n",
       "      <td>-2.464063</td>\n",
       "      <td>4.820886</td>\n",
       "      <td>0.775505</td>\n",
       "      <td>-0.614785</td>\n",
       "      <td>1.368024</td>\n",
       "      <td>-0.526262</td>\n",
       "      <td>-0.121356</td>\n",
       "      <td>-0.357616</td>\n",
       "      <td>...</td>\n",
       "      <td>-1.257800</td>\n",
       "      <td>-0.324418</td>\n",
       "      <td>-0.420020</td>\n",
       "      <td>-0.219501</td>\n",
       "      <td>-0.268873</td>\n",
       "      <td>-0.144582</td>\n",
       "      <td>0.104464</td>\n",
       "      <td>1</td>\n",
       "      <td>7.678055</td>\n",
       "      <td>0.120537</td>\n",
       "    </tr>\n",
       "    <tr>\n",
       "      <th>123249</th>\n",
       "      <td>-0.556373</td>\n",
       "      <td>0.784859</td>\n",
       "      <td>1.704390</td>\n",
       "      <td>0.963344</td>\n",
       "      <td>0.354951</td>\n",
       "      <td>-0.527152</td>\n",
       "      <td>0.569132</td>\n",
       "      <td>-0.038343</td>\n",
       "      <td>-0.788850</td>\n",
       "      <td>-0.330212</td>\n",
       "      <td>...</td>\n",
       "      <td>0.443528</td>\n",
       "      <td>0.008180</td>\n",
       "      <td>0.411417</td>\n",
       "      <td>-0.309467</td>\n",
       "      <td>-0.410353</td>\n",
       "      <td>0.170465</td>\n",
       "      <td>0.159257</td>\n",
       "      <td>0</td>\n",
       "      <td>-0.028086</td>\n",
       "      <td>-0.092001</td>\n",
       "    </tr>\n",
       "    <tr>\n",
       "      <th>102441</th>\n",
       "      <td>-13.192671</td>\n",
       "      <td>12.785971</td>\n",
       "      <td>-9.906650</td>\n",
       "      <td>3.320337</td>\n",
       "      <td>-4.801176</td>\n",
       "      <td>5.760059</td>\n",
       "      <td>-18.750889</td>\n",
       "      <td>-37.353443</td>\n",
       "      <td>-0.391540</td>\n",
       "      <td>-5.052502</td>\n",
       "      <td>...</td>\n",
       "      <td>-8.887017</td>\n",
       "      <td>5.303607</td>\n",
       "      <td>-0.639435</td>\n",
       "      <td>0.263203</td>\n",
       "      <td>-0.108877</td>\n",
       "      <td>1.269566</td>\n",
       "      <td>0.939407</td>\n",
       "      <td>1</td>\n",
       "      <td>-0.293440</td>\n",
       "      <td>-0.193670</td>\n",
       "    </tr>\n",
       "    <tr>\n",
       "      <th>178208</th>\n",
       "      <td>-5.904921</td>\n",
       "      <td>4.439911</td>\n",
       "      <td>-8.631802</td>\n",
       "      <td>7.788684</td>\n",
       "      <td>-4.989580</td>\n",
       "      <td>-1.200144</td>\n",
       "      <td>-7.674060</td>\n",
       "      <td>4.125761</td>\n",
       "      <td>-5.315778</td>\n",
       "      <td>-4.891156</td>\n",
       "      <td>...</td>\n",
       "      <td>1.266441</td>\n",
       "      <td>-0.199410</td>\n",
       "      <td>0.014960</td>\n",
       "      <td>-0.000019</td>\n",
       "      <td>0.544210</td>\n",
       "      <td>-1.167566</td>\n",
       "      <td>-1.206354</td>\n",
       "      <td>1</td>\n",
       "      <td>0.328513</td>\n",
       "      <td>0.456220</td>\n",
       "    </tr>\n",
       "  </tbody>\n",
       "</table>\n",
       "<p>5 rows × 31 columns</p>\n",
       "</div>"
      ],
      "text/plain": [
       "               V1         V2        V3        V4        V5        V6  \\\n",
       "81042   -0.306231   0.033811  1.684815 -1.149371 -0.800581 -0.805059   \n",
       "151196   0.842025  -0.365518 -2.464063  4.820886  0.775505 -0.614785   \n",
       "123249  -0.556373   0.784859  1.704390  0.963344  0.354951 -0.527152   \n",
       "102441 -13.192671  12.785971 -9.906650  3.320337 -4.801176  5.760059   \n",
       "178208  -5.904921   4.439911 -8.631802  7.788684 -4.989580 -1.200144   \n",
       "\n",
       "               V7         V8        V9       V10  ...       V22       V23  \\\n",
       "81042    0.086194   0.005790 -1.274462  0.149180  ...  0.664775 -0.010622   \n",
       "151196   1.368024  -0.526262 -0.121356 -0.357616  ... -1.257800 -0.324418   \n",
       "123249   0.569132  -0.038343 -0.788850 -0.330212  ...  0.443528  0.008180   \n",
       "102441 -18.750889 -37.353443 -0.391540 -5.052502  ... -8.887017  5.303607   \n",
       "178208  -7.674060   4.125761 -5.315778 -4.891156  ...  1.266441 -0.199410   \n",
       "\n",
       "             V24       V25       V26       V27       V28  Class  \\\n",
       "81042   0.587973 -0.130572 -0.249142  0.055531  0.058146      0   \n",
       "151196 -0.420020 -0.219501 -0.268873 -0.144582  0.104464      1   \n",
       "123249  0.411417 -0.309467 -0.410353  0.170465  0.159257      0   \n",
       "102441 -0.639435  0.263203 -0.108877  1.269566  0.939407      1   \n",
       "178208  0.014960 -0.000019  0.544210 -1.167566 -1.206354      1   \n",
       "\n",
       "        scaled_amount  scaled_time  \n",
       "81042        0.183749    -0.304585  \n",
       "151196       7.678055     0.120537  \n",
       "123249      -0.028086    -0.092001  \n",
       "102441      -0.293440    -0.193670  \n",
       "178208       0.328513     0.456220  \n",
       "\n",
       "[5 rows x 31 columns]"
      ]
     },
     "execution_count": 13,
     "metadata": {},
     "output_type": "execute_result"
    }
   ],
   "source": [
    "# Since our classes are highly skewed we should make them equivalent in order to have a normal distribution of the classes.\n",
    "\n",
    "# Lets shuffle the data before creating the subsamples\n",
    "\n",
    "data_fraud = data_fraud.sample(frac=1)\n",
    "\n",
    "# amount of fraud classes 492 rows.\n",
    "fraud_df = data_fraud.loc[data_fraud['Class'] == 1]\n",
    "non_fraud_df =data_fraud.loc[data_fraud['Class'] == 0][:492]\n",
    "\n",
    "normal_distributed_df = pd.concat([fraud_df, non_fraud_df])\n",
    "\n",
    "# Shuffle dataframe rows\n",
    "new_df = normal_distributed_df.sample(frac=1, random_state=42)\n",
    "\n",
    "new_df.head()"
   ]
  },
  {
   "cell_type": "code",
   "execution_count": 14,
   "id": "28549cf6",
   "metadata": {
    "execution": {
     "iopub.execute_input": "2023-08-27T14:45:28.041647Z",
     "iopub.status.busy": "2023-08-27T14:45:28.041217Z",
     "iopub.status.idle": "2023-08-27T14:45:28.048548Z",
     "shell.execute_reply": "2023-08-27T14:45:28.046919Z"
    },
    "papermill": {
     "duration": 0.029813,
     "end_time": "2023-08-27T14:45:28.051117",
     "exception": false,
     "start_time": "2023-08-27T14:45:28.021304",
     "status": "completed"
    },
    "tags": []
   },
   "outputs": [
    {
     "data": {
      "text/plain": [
       "(984, 31)"
      ]
     },
     "execution_count": 14,
     "metadata": {},
     "output_type": "execute_result"
    }
   ],
   "source": [
    "new_df.shape"
   ]
  },
  {
   "cell_type": "code",
   "execution_count": 15,
   "id": "b3e7bc88",
   "metadata": {
    "execution": {
     "iopub.execute_input": "2023-08-27T14:45:28.091301Z",
     "iopub.status.busy": "2023-08-27T14:45:28.090194Z",
     "iopub.status.idle": "2023-08-27T14:45:28.328430Z",
     "shell.execute_reply": "2023-08-27T14:45:28.327214Z"
    },
    "papermill": {
     "duration": 0.261555,
     "end_time": "2023-08-27T14:45:28.330860",
     "exception": false,
     "start_time": "2023-08-27T14:45:28.069305",
     "status": "completed"
    },
    "tags": []
   },
   "outputs": [
    {
     "name": "stdout",
     "output_type": "stream",
     "text": [
      "Distribution of the Classes in the subsample dataset\n",
      "0    0.5\n",
      "1    0.5\n",
      "Name: Class, dtype: float64\n"
     ]
    },
    {
     "data": {
      "image/png": "[encoded data removed]",
      "text/plain": [
       "<Figure size 640x480 with 1 Axes>"
      ]
     },
     "metadata": {},
     "output_type": "display_data"
    }
   ],
   "source": [
    "print('Distribution of the Classes in the subsample dataset')\n",
    "print(new_df['Class'].value_counts()/len(new_df))\n",
    "\n",
    "\n",
    "\n",
    "sns.countplot(x='Class', data=new_df, palette=colors)\n",
    "plt.title('Equally Distributed Classes', fontsize=14)\n",
    "plt.show()"
   ]
  },
  {
   "cell_type": "markdown",
   "id": "5b95b45a",
   "metadata": {
    "papermill": {
     "duration": 0.019096,
     "end_time": "2023-08-27T14:45:28.369361",
     "exception": false,
     "start_time": "2023-08-27T14:45:28.350265",
     "status": "completed"
    },
    "tags": []
   },
   "source": [
    "# **Splitting**  the Data set into Train and Test"
   ]
  },
  {
   "cell_type": "code",
   "execution_count": 16,
   "id": "29a0b9a6",
   "metadata": {
    "execution": {
     "iopub.execute_input": "2023-08-27T14:45:28.412589Z",
     "iopub.status.busy": "2023-08-27T14:45:28.412112Z",
     "iopub.status.idle": "2023-08-27T14:45:28.546003Z",
     "shell.execute_reply": "2023-08-27T14:45:28.544786Z"
    },
    "papermill": {
     "duration": 0.15895,
     "end_time": "2023-08-27T14:45:28.548869",
     "exception": false,
     "start_time": "2023-08-27T14:45:28.389919",
     "status": "completed"
    },
    "tags": []
   },
   "outputs": [],
   "source": [
    "from sklearn.model_selection import train_test_split\n",
    "\n",
    "X=new_df.drop('Class',axis=1)\n",
    "y=new_df['Class']\n",
    "\n",
    "X_train,X_test,y_train,y_test =train_test_split(X,y,test_size=0.2,random_state=42)"
   ]
  },
  {
   "cell_type": "code",
   "execution_count": 17,
   "id": "a2f6d5d1",
   "metadata": {
    "execution": {
     "iopub.execute_input": "2023-08-27T14:45:28.591337Z",
     "iopub.status.busy": "2023-08-27T14:45:28.590915Z",
     "iopub.status.idle": "2023-08-27T14:45:28.596558Z",
     "shell.execute_reply": "2023-08-27T14:45:28.595528Z"
    },
    "papermill": {
     "duration": 0.029583,
     "end_time": "2023-08-27T14:45:28.599060",
     "exception": false,
     "start_time": "2023-08-27T14:45:28.569477",
     "status": "completed"
    },
    "tags": []
   },
   "outputs": [],
   "source": [
    "# Turn the values into an array for feeding the classification algorithms.\n",
    "X_train = X_train.values\n",
    "X_test = X_test.values\n",
    "y_train = y_train.values\n",
    "y_test = y_test.values"
   ]
  },
  {
   "cell_type": "markdown",
   "id": "d4734e63",
   "metadata": {
    "papermill": {
     "duration": 0.020367,
     "end_time": "2023-08-27T14:45:28.639109",
     "exception": false,
     "start_time": "2023-08-27T14:45:28.618742",
     "status": "completed"
    },
    "tags": []
   },
   "source": [
    "# **Train the model:**\n",
    "\n",
    "Hyper Parameter tuning :Hyperparameter tuning, also known as hyperparameter optimization, is the process of finding the best set of hyperparameters for a machine learning model to achieve optimal performance on a given dataset\n",
    "\n",
    "There are two main hyperparameter tuning techniques:\n",
    "\n",
    "GridSearchCV\n",
    "RandomizedSearchCV\n",
    "\n",
    "# **1.LogisticRegression Model**\n",
    "\n",
    "The Logistic Regression model calculates the probability that an instance belongs to a specific class (e.g., class 1) based on its features. The predicted probability is then converted into a binary decision (class 0 or 1) using a threshold."
   ]
  },
  {
   "cell_type": "code",
   "execution_count": 18,
   "id": "e4a7e594",
   "metadata": {
    "execution": {
     "iopub.execute_input": "2023-08-27T14:45:28.681158Z",
     "iopub.status.busy": "2023-08-27T14:45:28.680346Z",
     "iopub.status.idle": "2023-08-27T14:45:28.815028Z",
     "shell.execute_reply": "2023-08-27T14:45:28.813467Z"
    },
    "papermill": {
     "duration": 0.159237,
     "end_time": "2023-08-27T14:45:28.818019",
     "exception": false,
     "start_time": "2023-08-27T14:45:28.658782",
     "status": "completed"
    },
    "tags": []
   },
   "outputs": [],
   "source": [
    "from sklearn.feature_extraction.text import CountVectorizer\n",
    "from sklearn.model_selection import train_test_split, GridSearchCV\n",
    "from sklearn.linear_model import LogisticRegression\n",
    "from sklearn.metrics import classification_report,confusion_matrix"
   ]
  },
  {
   "cell_type": "code",
   "execution_count": 19,
   "id": "6abe0737",
   "metadata": {
    "execution": {
     "iopub.execute_input": "2023-08-27T14:45:28.858446Z",
     "iopub.status.busy": "2023-08-27T14:45:28.857940Z",
     "iopub.status.idle": "2023-08-27T14:45:29.280378Z",
     "shell.execute_reply": "2023-08-27T14:45:29.278895Z"
    },
    "papermill": {
     "duration": 0.447507,
     "end_time": "2023-08-27T14:45:29.284732",
     "exception": false,
     "start_time": "2023-08-27T14:45:28.837225",
     "status": "completed"
    },
    "tags": []
   },
   "outputs": [
    {
     "name": "stdout",
     "output_type": "stream",
     "text": [
      "Baseline Model:\n",
      "              precision    recall  f1-score   support\n",
      "\n",
      "           0       0.91      0.99      0.95        87\n",
      "           1       0.99      0.92      0.95       110\n",
      "\n",
      "    accuracy                           0.95       197\n",
      "   macro avg       0.95      0.95      0.95       197\n",
      "weighted avg       0.95      0.95      0.95       197\n",
      "\n",
      "[[ 86   1]\n",
      " [  9 101]]\n"
     ]
    }
   ],
   "source": [
    "baseline_model = LogisticRegression(max_iter=1000)\n",
    "\n",
    "#Hyperparameter tuning\n",
    "param_grid = {'C': [0.1, 1]}\n",
    "grid_search = GridSearchCV(baseline_model, param_grid, cv=3)\n",
    "grid_search.fit(X_train, y_train)\n",
    "\n",
    "baseline_model = grid_search.best_estimator_  # we get the logisticRegression model with the best parameters\n",
    "baseline_model=grid_search.fit(X_train, y_train)\n",
    "#baseline_model.fit(X_train, y_train)\n",
    "# Model evaluation\n",
    "y_pred = baseline_model.predict(X_test)  # Evaluate on a smaller sample\n",
    "print(\"Baseline Model:\")\n",
    "print(classification_report(y_test, y_pred))\n",
    "print(confusion_matrix(y_test, y_pred))"
   ]
  },
  {
   "cell_type": "markdown",
   "id": "c6a91f8a",
   "metadata": {
    "papermill": {
     "duration": 0.040901,
     "end_time": "2023-08-27T14:45:29.366808",
     "exception": false,
     "start_time": "2023-08-27T14:45:29.325907",
     "status": "completed"
    },
    "tags": []
   },
   "source": [
    "# **ROC & AUC**\n",
    "Receiver Operating Characteristic (ROC) curve and the Area Under the ROC Curve (AUC) widely used evaluation metrics for binary classification models. They help assess the performance of the model and its ability to discriminate between the two classes effectively."
   ]
  },
  {
   "cell_type": "code",
   "execution_count": 20,
   "id": "f45681ae",
   "metadata": {
    "execution": {
     "iopub.execute_input": "2023-08-27T14:45:29.414064Z",
     "iopub.status.busy": "2023-08-27T14:45:29.412611Z",
     "iopub.status.idle": "2023-08-27T14:45:29.735277Z",
     "shell.execute_reply": "2023-08-27T14:45:29.733607Z"
    },
    "papermill": {
     "duration": 0.347301,
     "end_time": "2023-08-27T14:45:29.738610",
     "exception": false,
     "start_time": "2023-08-27T14:45:29.391309",
     "status": "completed"
    },
    "tags": []
   },
   "outputs": [
    {
     "data": {
      "image/png": "[encoded data removed]",
      "text/plain": [
       "<Figure size 640x480 with 1 Axes>"
      ]
     },
     "metadata": {},
     "output_type": "display_data"
    },
    {
     "name": "stdout",
     "output_type": "stream",
     "text": [
      "AUC Score: 0.9533437826541274\n"
     ]
    }
   ],
   "source": [
    "from sklearn.metrics import roc_curve, auc, roc_auc_score\n",
    "from sklearn.preprocessing import LabelEncoder\n",
    "import numpy as np\n",
    "import matplotlib.pyplot as plt\n",
    "\n",
    "# Convert categorical sentiment labels to binary values (1 for POSITIVE, 0 for NEGATIVE)\n",
    "label_encoder = LabelEncoder()\n",
    "y_test_binary = label_encoder.fit_transform(y_test)\n",
    "y_pred_binary = label_encoder.transform(y_pred)\n",
    "\n",
    "# Calculate ROC curve and AUC\n",
    "fpr, tpr, thresholds = roc_curve(y_test_binary, y_pred_binary)\n",
    "roc_auc = auc(fpr, tpr)\n",
    "\n",
    "# Plot the ROC curve\n",
    "plt.figure()\n",
    "plt.plot(fpr, tpr, color='darkorange', lw=2, label='ROC curve (area = {:.2f})'.format(roc_auc))\n",
    "plt.plot([0, 1], [0, 1], color='navy', lw=2, linestyle='--')\n",
    "plt.xlim([0.0, 1.0])\n",
    "plt.ylim([0.0, 1.05])\n",
    "plt.xlabel('False Positive Rate')\n",
    "plt.ylabel('True Positive Rate')\n",
    "plt.title('Receiver Operating Characteristic (ROC) Curve')\n",
    "plt.legend(loc='lower right')\n",
    "plt.show()\n",
    "\n",
    "# Calculate AUC score using roc_auc_score\n",
    "auc_score = roc_auc_score(y_test_binary, y_pred_binary)\n",
    "print(\"AUC Score:\", auc_score)\n"
   ]
  },
  {
   "cell_type": "markdown",
   "id": "9e8dee1e",
   "metadata": {
    "papermill": {
     "duration": 0.019952,
     "end_time": "2023-08-27T14:45:29.779084",
     "exception": false,
     "start_time": "2023-08-27T14:45:29.759132",
     "status": "completed"
    },
    "tags": []
   },
   "source": [
    "# **2. KNeighborsClassifier Model**"
   ]
  },
  {
   "cell_type": "code",
   "execution_count": 21,
   "id": "c0620c55",
   "metadata": {
    "execution": {
     "iopub.execute_input": "2023-08-27T14:45:29.823319Z",
     "iopub.status.busy": "2023-08-27T14:45:29.822913Z",
     "iopub.status.idle": "2023-08-27T14:45:30.158602Z",
     "shell.execute_reply": "2023-08-27T14:45:30.157224Z"
    },
    "papermill": {
     "duration": 0.36193,
     "end_time": "2023-08-27T14:45:30.162423",
     "exception": false,
     "start_time": "2023-08-27T14:45:29.800493",
     "status": "completed"
    },
    "tags": []
   },
   "outputs": [],
   "source": [
    "from sklearn.svm import SVC\n",
    "from sklearn.neighbors import KNeighborsClassifier\n",
    "from sklearn.tree import DecisionTreeClassifier\n",
    "from sklearn.ensemble import RandomForestClassifier"
   ]
  },
  {
   "cell_type": "code",
   "execution_count": 22,
   "id": "915793f9",
   "metadata": {
    "execution": {
     "iopub.execute_input": "2023-08-27T14:45:30.207359Z",
     "iopub.status.busy": "2023-08-27T14:45:30.206953Z",
     "iopub.status.idle": "2023-08-27T14:45:30.431862Z",
     "shell.execute_reply": "2023-08-27T14:45:30.430862Z"
    },
    "papermill": {
     "duration": 0.249617,
     "end_time": "2023-08-27T14:45:30.434533",
     "exception": false,
     "start_time": "2023-08-27T14:45:30.184916",
     "status": "completed"
    },
    "tags": []
   },
   "outputs": [
    {
     "name": "stdout",
     "output_type": "stream",
     "text": [
      " KNN Model:\n",
      "              precision    recall  f1-score   support\n",
      "\n",
      "           0       0.91      0.99      0.95        87\n",
      "           1       0.99      0.92      0.95       110\n",
      "\n",
      "    accuracy                           0.95       197\n",
      "   macro avg       0.95      0.95      0.95       197\n",
      "weighted avg       0.95      0.95      0.95       197\n",
      "\n",
      "[[ 86   1]\n",
      " [  9 101]]\n"
     ]
    }
   ],
   "source": [
    "# Baseline model\n",
    "knn_model = KNeighborsClassifier()\n",
    "\n",
    "# Hyperparameter tuning\n",
    "param_grid = {'n_neighbors': [3, 5, 7]}  \n",
    "grid_search = GridSearchCV(knn_model, param_grid, cv=3)\n",
    "grid_search.fit(X_train, y_train)\n",
    "\n",
    "baseline_model = grid_search.best_estimator_  # Get the KNeighborsClassifier with the best parameters\n",
    "\n",
    "# Model evaluation\n",
    "y_pred = baseline_model.predict(X_test)  \n",
    "print(\" KNN Model:\")\n",
    "print(classification_report(y_test, y_pred))\n",
    "print(confusion_matrix(y_test, y_pred))"
   ]
  },
  {
   "cell_type": "code",
   "execution_count": 23,
   "id": "d04050ae",
   "metadata": {
    "execution": {
     "iopub.execute_input": "2023-08-27T14:45:30.480784Z",
     "iopub.status.busy": "2023-08-27T14:45:30.479674Z",
     "iopub.status.idle": "2023-08-27T14:45:30.791360Z",
     "shell.execute_reply": "2023-08-27T14:45:30.790151Z"
    },
    "papermill": {
     "duration": 0.337557,
     "end_time": "2023-08-27T14:45:30.793895",
     "exception": false,
     "start_time": "2023-08-27T14:45:30.456338",
     "status": "completed"
    },
    "tags": []
   },
   "outputs": [
    {
     "data": {
      "image/png": "[encoded data removed]",
      "text/plain": [
       "<Figure size 640x480 with 1 Axes>"
      ]
     },
     "metadata": {},
     "output_type": "display_data"
    },
    {
     "name": "stdout",
     "output_type": "stream",
     "text": [
      "AUC Score: 0.9533437826541274\n"
     ]
    }
   ],
   "source": [
    "from sklearn.metrics import roc_curve, auc, roc_auc_score\n",
    "from sklearn.preprocessing import LabelEncoder\n",
    "import numpy as np\n",
    "import matplotlib.pyplot as plt\n",
    "\n",
    "# Convert categorical sentiment labels to binary values (1 for POSITIVE, 0 for NEGATIVE)\n",
    "label_encoder = LabelEncoder()\n",
    "y_test_binary = label_encoder.fit_transform(y_test)\n",
    "y_pred_binary = label_encoder.transform(y_pred)\n",
    "\n",
    "# Calculate ROC curve and AUC\n",
    "fpr, tpr, thresholds = roc_curve(y_test_binary, y_pred_binary)\n",
    "roc_auc = auc(fpr, tpr)\n",
    "\n",
    "# Plot the ROC curve\n",
    "plt.figure()\n",
    "plt.plot(fpr, tpr, color='darkorange', lw=2, label='ROC curve (area = {:.2f})'.format(roc_auc))\n",
    "plt.plot([0, 1], [0, 1], color='navy', lw=2, linestyle='--')\n",
    "plt.xlim([0.0, 1.0])\n",
    "plt.ylim([0.0, 1.05])\n",
    "plt.xlabel('False Positive Rate')\n",
    "plt.ylabel('True Positive Rate')\n",
    "plt.title('Receiver Operating Characteristic (ROC) Curve')\n",
    "plt.legend(loc='lower right')\n",
    "plt.show()\n",
    "\n",
    "# Calculate AUC score using roc_auc_score\n",
    "auc_score = roc_auc_score(y_test_binary, y_pred_binary)\n",
    "print(\"AUC Score:\", auc_score)\n"
   ]
  },
  {
   "cell_type": "markdown",
   "id": "2d7c52af",
   "metadata": {
    "papermill": {
     "duration": 0.021525,
     "end_time": "2023-08-27T14:45:30.837239",
     "exception": false,
     "start_time": "2023-08-27T14:45:30.815714",
     "status": "completed"
    },
    "tags": []
   },
   "source": [
    "# **3. SVMClassifier Model**"
   ]
  },
  {
   "cell_type": "code",
   "execution_count": 24,
   "id": "604bf4ab",
   "metadata": {
    "execution": {
     "iopub.execute_input": "2023-08-27T14:45:30.882369Z",
     "iopub.status.busy": "2023-08-27T14:45:30.881958Z",
     "iopub.status.idle": "2023-08-27T14:45:31.470825Z",
     "shell.execute_reply": "2023-08-27T14:45:31.468950Z"
    },
    "papermill": {
     "duration": 0.614645,
     "end_time": "2023-08-27T14:45:31.473597",
     "exception": false,
     "start_time": "2023-08-27T14:45:30.858952",
     "status": "completed"
    },
    "tags": []
   },
   "outputs": [
    {
     "name": "stdout",
     "output_type": "stream",
     "text": [
      " SVM Model:\n",
      "              precision    recall  f1-score   support\n",
      "\n",
      "           0       0.91      0.99      0.95        87\n",
      "           1       0.99      0.92      0.95       110\n",
      "\n",
      "    accuracy                           0.95       197\n",
      "   macro avg       0.95      0.95      0.95       197\n",
      "weighted avg       0.95      0.95      0.95       197\n",
      "\n",
      "[[ 86   1]\n",
      " [  9 101]]\n"
     ]
    }
   ],
   "source": [
    "# Baseline model\n",
    "svm_model = SVC()\n",
    "\n",
    "# Hyperparameter tuning\n",
    "param_grid = {'C': [0.1, 1, 10], 'kernel': ['linear', 'rbf']}  \n",
    "grid_search = GridSearchCV(svm_model, param_grid, cv=3)\n",
    "grid_search.fit(X_train, y_train)\n",
    "\n",
    "baseline_model = grid_search.best_estimator_  # Get the SVM model with the best parameters\n",
    "\n",
    "# Model evaluation\n",
    "y_pred = baseline_model.predict(X_test)  # Evaluate on a smaller sample\n",
    "print(\" SVM Model:\")\n",
    "print(classification_report(y_test, y_pred))\n",
    "print(confusion_matrix(y_test, y_pred))\n",
    "\n"
   ]
  },
  {
   "cell_type": "code",
   "execution_count": 25,
   "id": "8ef7501d",
   "metadata": {
    "execution": {
     "iopub.execute_input": "2023-08-27T14:45:31.517603Z",
     "iopub.status.busy": "2023-08-27T14:45:31.517183Z",
     "iopub.status.idle": "2023-08-27T14:45:31.830692Z",
     "shell.execute_reply": "2023-08-27T14:45:31.828869Z"
    },
    "papermill": {
     "duration": 0.338193,
     "end_time": "2023-08-27T14:45:31.833079",
     "exception": false,
     "start_time": "2023-08-27T14:45:31.494886",
     "status": "completed"
    },
    "tags": []
   },
   "outputs": [
    {
     "data": {
      "image/png": "[encoded data removed]",
      "text/plain": [
       "<Figure size 640x480 with 1 Axes>"
      ]
     },
     "metadata": {},
     "output_type": "display_data"
    },
    {
     "name": "stdout",
     "output_type": "stream",
     "text": [
      "AUC Score: 0.9533437826541274\n"
     ]
    }
   ],
   "source": [
    "from sklearn.metrics import roc_curve, auc, roc_auc_score\n",
    "from sklearn.preprocessing import LabelEncoder\n",
    "import numpy as np\n",
    "import matplotlib.pyplot as plt\n",
    "\n",
    "# Convert categorical sentiment labels to binary values (1 for POSITIVE, 0 for NEGATIVE)\n",
    "label_encoder = LabelEncoder()\n",
    "y_test_binary = label_encoder.fit_transform(y_test)\n",
    "y_pred_binary = label_encoder.transform(y_pred)\n",
    "\n",
    "# Calculate ROC curve and AUC\n",
    "fpr, tpr, thresholds = roc_curve(y_test_binary, y_pred_binary)\n",
    "roc_auc = auc(fpr, tpr)\n",
    "\n",
    "# Plot the ROC curve\n",
    "plt.figure()\n",
    "plt.plot(fpr, tpr, color='darkorange', lw=2, label='ROC curve (area = {:.2f})'.format(roc_auc))\n",
    "plt.plot([0, 1], [0, 1], color='navy', lw=2, linestyle='--')\n",
    "plt.xlim([0.0, 1.0])\n",
    "plt.ylim([0.0, 1.05])\n",
    "plt.xlabel('False Positive Rate')\n",
    "plt.ylabel('True Positive Rate')\n",
    "plt.title('Receiver Operating Characteristic (ROC) Curve')\n",
    "plt.legend(loc='lower right')\n",
    "plt.show()\n",
    "\n",
    "# Calculate AUC score using roc_auc_score\n",
    "auc_score = roc_auc_score(y_test_binary, y_pred_binary)\n",
    "print(\"AUC Score:\", auc_score)\n"
   ]
  },
  {
   "cell_type": "markdown",
   "id": "1ad98559",
   "metadata": {
    "papermill": {
     "duration": 0.022249,
     "end_time": "2023-08-27T14:45:31.877746",
     "exception": false,
     "start_time": "2023-08-27T14:45:31.855497",
     "status": "completed"
    },
    "tags": []
   },
   "source": [
    "# **4. DecisionTreeClassifier Model**"
   ]
  },
  {
   "cell_type": "code",
   "execution_count": 26,
   "id": "29894185",
   "metadata": {
    "execution": {
     "iopub.execute_input": "2023-08-27T14:45:31.925560Z",
     "iopub.status.busy": "2023-08-27T14:45:31.924332Z",
     "iopub.status.idle": "2023-08-27T14:45:32.283143Z",
     "shell.execute_reply": "2023-08-27T14:45:32.281565Z"
    },
    "papermill": {
     "duration": 0.386181,
     "end_time": "2023-08-27T14:45:32.286794",
     "exception": false,
     "start_time": "2023-08-27T14:45:31.900613",
     "status": "completed"
    },
    "tags": []
   },
   "outputs": [
    {
     "name": "stdout",
     "output_type": "stream",
     "text": [
      " Decision Tree Model:\n",
      "              precision    recall  f1-score   support\n",
      "\n",
      "           0       0.90      0.97      0.93        87\n",
      "           1       0.97      0.92      0.94       110\n",
      "\n",
      "    accuracy                           0.94       197\n",
      "   macro avg       0.94      0.94      0.94       197\n",
      "weighted avg       0.94      0.94      0.94       197\n",
      "\n",
      "[[ 84   3]\n",
      " [  9 101]]\n"
     ]
    }
   ],
   "source": [
    "# DecisionTreeClassifier model\n",
    "dt_model = DecisionTreeClassifier()\n",
    "\n",
    "# Hyperparameter tuning\n",
    "param_grid = {'max_depth': [None, 10, 20], 'min_samples_split': [2, 5, 10]} \n",
    "grid_search = GridSearchCV(dt_model, param_grid, cv=3)\n",
    "grid_search.fit(X_train, y_train)\n",
    "\n",
    "baseline_model = grid_search.best_estimator_  # Get the DecisionTreeClassifier with the best parameters\n",
    "\n",
    "# Model evaluation\n",
    "y_pred = baseline_model.predict(X_test)  # Evaluate on a smaller sample\n",
    "print(\" Decision Tree Model:\")\n",
    "print(classification_report(y_test, y_pred))\n",
    "print(confusion_matrix(y_test, y_pred))\n",
    "\n",
    "\n",
    "\n"
   ]
  },
  {
   "cell_type": "code",
   "execution_count": 27,
   "id": "c67b0d15",
   "metadata": {
    "execution": {
     "iopub.execute_input": "2023-08-27T14:45:32.336813Z",
     "iopub.status.busy": "2023-08-27T14:45:32.335733Z",
     "iopub.status.idle": "2023-08-27T14:45:32.582075Z",
     "shell.execute_reply": "2023-08-27T14:45:32.581028Z"
    },
    "papermill": {
     "duration": 0.272861,
     "end_time": "2023-08-27T14:45:32.584249",
     "exception": false,
     "start_time": "2023-08-27T14:45:32.311388",
     "status": "completed"
    },
    "tags": []
   },
   "outputs": [
    {
     "data": {
      "image/png": "[encoded data removed]",
      "text/plain": [
       "<Figure size 640x480 with 1 Axes>"
      ]
     },
     "metadata": {},
     "output_type": "display_data"
    },
    {
     "name": "stdout",
     "output_type": "stream",
     "text": [
      "AUC Score: 0.9418495297805642\n"
     ]
    }
   ],
   "source": [
    "from sklearn.metrics import roc_curve, auc, roc_auc_score\n",
    "from sklearn.preprocessing import LabelEncoder\n",
    "import numpy as np\n",
    "import matplotlib.pyplot as plt\n",
    "\n",
    "# Convert categorical sentiment labels to binary values (1 for POSITIVE, 0 for NEGATIVE)\n",
    "label_encoder = LabelEncoder()\n",
    "y_test_binary = label_encoder.fit_transform(y_test)\n",
    "y_pred_binary = label_encoder.transform(y_pred)\n",
    "\n",
    "# Calculate ROC curve and AUC\n",
    "fpr, tpr, thresholds = roc_curve(y_test_binary, y_pred_binary)\n",
    "roc_auc = auc(fpr, tpr)\n",
    "\n",
    "# Plot the ROC curve\n",
    "plt.figure()\n",
    "plt.plot(fpr, tpr, color='darkorange', lw=2, label='ROC curve (area = {:.2f})'.format(roc_auc))\n",
    "plt.plot([0, 1], [0, 1], color='navy', lw=2, linestyle='--')\n",
    "plt.xlim([0.0, 1.0])\n",
    "plt.ylim([0.0, 1.05])\n",
    "plt.xlabel('False Positive Rate')\n",
    "plt.ylabel('True Positive Rate')\n",
    "plt.title('Receiver Operating Characteristic (ROC) Curve')\n",
    "plt.legend(loc='lower right')\n",
    "plt.show()\n",
    "\n",
    "# Calculate AUC score using roc_auc_score\n",
    "auc_score = roc_auc_score(y_test_binary, y_pred_binary)\n",
    "print(\"AUC Score:\", auc_score)\n"
   ]
  },
  {
   "cell_type": "markdown",
   "id": "a43dafbd",
   "metadata": {
    "papermill": {
     "duration": 0.023303,
     "end_time": "2023-08-27T14:45:32.631255",
     "exception": false,
     "start_time": "2023-08-27T14:45:32.607952",
     "status": "completed"
    },
    "tags": []
   },
   "source": [
    "# **SMOTE Technique (Over-Sampling):**\n",
    "\n",
    "SMOTE stands for **Synthetic Minority Over-sampling Technique**. Unlike Random UnderSampling, SMOTE creates new synthetic points in order to have an equal balance of the classes. This is another alternative for solving the \"class imbalance problems\"."
   ]
  },
  {
   "cell_type": "markdown",
   "id": "b0a66586",
   "metadata": {
    "papermill": {
     "duration": 0.024798,
     "end_time": "2023-08-27T14:45:32.680035",
     "exception": false,
     "start_time": "2023-08-27T14:45:32.655237",
     "status": "completed"
    },
    "tags": []
   },
   "source": [
    "**Understanding SMOTE:**\n",
    "\n",
    "**Solving the Class Imbalance**: SMOTE creates synthetic points from the minority class in order to reach an equal balance between the minority and majority class.\n",
    "\n",
    "**Location of the synthetic points:** SMOTE picks the distance between the closest neighbors of the minority class, in between these distances it creates synthetic points.\n",
    "\n",
    "**Final Effect**: More information is retained since we didn't have to delete any rows unlike in random undersampling.\n",
    "\n",
    "**Accuracy || Time Tradeoff**: Although it is likely that SMOTE will be more accurate than random under-sampling, it will take more time to train since no rows are eliminated as previously stated"
   ]
  },
  {
   "cell_type": "code",
   "execution_count": 28,
   "id": "dc9c9a22",
   "metadata": {
    "execution": {
     "iopub.execute_input": "2023-08-27T14:45:32.729731Z",
     "iopub.status.busy": "2023-08-27T14:45:32.728271Z",
     "iopub.status.idle": "2023-08-27T14:45:42.064088Z",
     "shell.execute_reply": "2023-08-27T14:45:42.062549Z"
    },
    "papermill": {
     "duration": 9.363232,
     "end_time": "2023-08-27T14:45:42.066697",
     "exception": false,
     "start_time": "2023-08-27T14:45:32.703465",
     "status": "completed"
    },
    "tags": []
   },
   "outputs": [
    {
     "name": "stdout",
     "output_type": "stream",
     "text": [
      "              precision    recall  f1-score   support\n",
      "\n",
      "           0       1.00      0.98      0.99     56869\n",
      "           1       0.06      0.88      0.11        93\n",
      "\n",
      "    accuracy                           0.98     56962\n",
      "   macro avg       0.53      0.93      0.55     56962\n",
      "weighted avg       1.00      0.98      0.99     56962\n",
      "\n"
     ]
    }
   ],
   "source": [
    "from imblearn.over_sampling import SMOTE\n",
    "from sklearn.model_selection import train_test_split\n",
    "from sklearn.linear_model import LogisticRegression\n",
    "from sklearn.metrics import classification_report\n",
    "\n",
    "X=data_fraud.drop(\"Class\",axis=1)\n",
    "y=data_fraud[\"Class\"]\n",
    "\n",
    "# Split the data into training and testing sets\n",
    "X_train, X_test, y_train, y_test = train_test_split(X, y, test_size=0.2, random_state=42)\n",
    "\n",
    "# Instantiate SMOTE\n",
    "smote = SMOTE(sampling_strategy='auto', random_state=42)\n",
    "\n",
    "# Apply SMOTE to the training data\n",
    "X_resampled, y_resampled = smote.fit_resample(X_train, y_train)\n",
    "\n",
    "# Train a model on the resampled data\n",
    "model = LogisticRegression(max_iter=2000)\n",
    "model.fit(X_resampled, y_resampled)\n",
    "\n",
    "# Make predictions on the test data\n",
    "y_pred = model.predict(X_test)\n",
    "\n",
    "# Evaluate the model's performance\n",
    "print(classification_report(y_test, y_pred))\n"
   ]
  },
  {
   "cell_type": "code",
   "execution_count": 29,
   "id": "faa8e9f3",
   "metadata": {
    "execution": {
     "iopub.execute_input": "2023-08-27T14:45:42.115982Z",
     "iopub.status.busy": "2023-08-27T14:45:42.114794Z",
     "iopub.status.idle": "2023-08-27T14:45:42.395189Z",
     "shell.execute_reply": "2023-08-27T14:45:42.393760Z"
    },
    "papermill": {
     "duration": 0.307657,
     "end_time": "2023-08-27T14:45:42.397897",
     "exception": false,
     "start_time": "2023-08-27T14:45:42.090240",
     "status": "completed"
    },
    "tags": []
   },
   "outputs": [
    {
     "data": {
      "image/png": "[encoded data removed]",
      "text/plain": [
       "<Figure size 640x480 with 1 Axes>"
      ]
     },
     "metadata": {},
     "output_type": "display_data"
    },
    {
     "name": "stdout",
     "output_type": "stream",
     "text": [
      "AUC Score: 0.9292633872565453\n"
     ]
    }
   ],
   "source": [
    "from sklearn.metrics import roc_curve, auc, roc_auc_score\n",
    "from sklearn.preprocessing import LabelEncoder\n",
    "import numpy as np\n",
    "import matplotlib.pyplot as plt\n",
    "\n",
    "# Convert categorical sentiment labels to binary values (1 for POSITIVE, 0 for NEGATIVE)\n",
    "label_encoder = LabelEncoder()\n",
    "y_test_binary = label_encoder.fit_transform(y_test)\n",
    "y_pred_binary = label_encoder.transform(y_pred)\n",
    "\n",
    "# Calculate ROC curve and AUC\n",
    "fpr, tpr, thresholds = roc_curve(y_test_binary, y_pred_binary)\n",
    "roc_auc = auc(fpr, tpr)\n",
    "\n",
    "# Plot the ROC curve\n",
    "plt.figure()\n",
    "plt.plot(fpr, tpr, color='darkorange', lw=2, label='ROC curve (area = {:.2f})'.format(roc_auc))\n",
    "plt.plot([0, 1], [0, 1], color='navy', lw=2, linestyle='--')\n",
    "plt.xlim([0.0, 1.0])\n",
    "plt.ylim([0.0, 1.05])\n",
    "plt.xlabel('False Positive Rate')\n",
    "plt.ylabel('True Positive Rate')\n",
    "plt.title('Receiver Operating Characteristic (ROC) Curve')\n",
    "plt.legend(loc='lower right')\n",
    "plt.show()\n",
    "\n",
    "# Calculate AUC score using roc_auc_score\n",
    "auc_score = roc_auc_score(y_test_binary, y_pred_binary)\n",
    "print(\"AUC Score:\", auc_score)\n"
   ]
  },
  {
   "cell_type": "markdown",
   "id": "a30664ed",
   "metadata": {
    "papermill": {
     "duration": 0.024589,
     "end_time": "2023-08-27T14:45:42.446617",
     "exception": false,
     "start_time": "2023-08-27T14:45:42.422028",
     "status": "completed"
    },
    "tags": []
   },
   "source": [
    "# **Credit Card Fraud Detection Project**\n",
    "\n",
    "**Preferred Model: Logistic Regression with SMOTE**\n",
    "\n",
    "**Objective**\n",
    "\n",
    "The primary objective of this project is to develop a credit card fraud detection model that accurately identifies fraudulent transactions while minimizing false positives.\n",
    "\n",
    "**Model Selection**\n",
    "\n",
    "Out of the various models considered, the preferred choice for this project is **Logistic Regression** due to its simplicity, interpretability, and suitability for binary classification tasks.\n",
    "\n",
    "**Imbalance Handling: SMOTE Technique**\n",
    "\n",
    "The highly imbalanced nature of the dataset, with a small fraction of fraudulent transactions, requires addressing class imbalance. The chosen technique for this purpose is\n",
    "\n",
    "**SMOTE (Synthetic Minority Over-sampling Technique)**.\n",
    "\n",
    "- SMOTE creates synthetic instances of the minority class to balance the dataset.\n",
    "- It helps prevent the model from being biased towards the majority class.\n",
    "\n",
    "**Steps for Logistic Regression with SMOTE**\n",
    "\n",
    "1. **Data Preprocessing:**\n",
    "   - Handle missing values and scale/normalize features.\n",
    "   - Split the data into training and testing sets.\n",
    "\n",
    "2. **SMOTE Resampling:**\n",
    "   - Apply SMOTE to the training data to balance class distribution.\n",
    "   - Generate synthetic instances of the minority class.\n",
    "\n",
    "3. **Model Training:**\n",
    "   - Train a **Logistic Regression** model on the resampled data.\n",
    "\n",
    "4. **Hyperparameter Tuning:**\n",
    "   - Use techniques like **GridSearchCV** to fine-tune the regularization parameter (`C`) for optimal performance.\n",
    "\n",
    "5. **Model Evaluation:**\n",
    "   - Evaluate the model's performance using metrics such as precision, recall, F1-score, ROC-AUC, and confusion matrix.\n",
    "   - Pay attention to the false positive rate, as minimizing false positives is crucial.\n",
    "\n",
    "6. **Interpretation and Visualization:**\n",
    "   - Analyze feature importance to understand which features contribute most to fraud detection.\n",
    "\n",
    "7. **Model Deployment:**\n",
    "   - Deploy the trained Logistic Regression model into a real-time system or application.\n",
    "   \n",
    "**Benefits**\n",
    "\n",
    "- Logistic Regression is well-suited for binary classification tasks and provides interpretable results.\n",
    "- SMOTE helps address class imbalance and prevent biased model outcomes.\n",
    "- The chosen approach aims to achieve high accuracy in detecting fraudulent transactions while minimizing false positives.\n",
    "\n",
    "**Conclusion**\n",
    "\n",
    "By utilizing Logistic Regression with the SMOTE technique, this project aims to deliver a reliable credit card fraud detection model that enhances financial security and protects customers from fraudulent activities.\n"
   ]
  },
  {
   "cell_type": "markdown",
   "id": "e03a7597",
   "metadata": {
    "papermill": {
     "duration": 0.024127,
     "end_time": "2023-08-27T14:45:42.495836",
     "exception": false,
     "start_time": "2023-08-27T14:45:42.471709",
     "status": "completed"
    },
    "tags": []
   },
   "source": [
    "# **RESULT**\n",
    "\n",
    "The project aims to achieve a highly accurate and robust model that can effectively detect credit card fraud while maintaining a low false positive rate. The choice of the final model and its performance will be based on comprehensive evaluation metrics and domain-specific considerations.\n",
    "\n",
    "By successfully developing and deploying a fraud detection model, the project contributes to enhancing financial security and minimizing the impact of fraudulent activities on credit card holders and financial institutions."
   ]
  }
 ],
 "metadata": {
  "kernelspec": {
   "display_name": "Python 3",
   "language": "python",
   "name": "python3"
  },
  "language_info": {
   "codemirror_mode": {
    "name": "ipython",
    "version": 3
   },
   "file_extension": ".py",
   "mimetype": "text/x-python",
   "name": "python",
   "nbconvert_exporter": "python",
   "pygments_lexer": "ipython3",
   "version": "3.10.12"
  },
  "papermill": {
   "default_parameters": {},
   "duration": 39.197776,
   "end_time": "2023-08-27T14:45:43.745342",
   "environment_variables": {},
   "exception": null,
   "input_path": "__notebook__.ipynb",
   "output_path": "__notebook__.ipynb",
   "parameters": {},
   "start_time": "2023-08-27T14:45:04.547566",
   "version": "2.4.0"
  }
 },
 "nbformat": 4,
 "nbformat_minor": 5
}
